{
 "cells": [
  {
   "cell_type": "code",
   "execution_count": 32,
   "id": "1e157e08",
   "metadata": {},
   "outputs": [
    {
     "name": "stdout",
     "output_type": "stream",
     "text": [
      "Requirement already satisfied: mysql-connector-python in c:\\users\\shahrukh khan\\anaconda3\\lib\\site-packages (8.0.29)Note: you may need to restart the kernel to use updated packages.\n",
      "\n",
      "Requirement already satisfied: protobuf>=3.0.0 in c:\\users\\shahrukh khan\\anaconda3\\lib\\site-packages (from mysql-connector-python) (3.20.1)\n"
     ]
    }
   ],
   "source": [
    "pip install mysql-connector-python"
   ]
  },
  {
   "cell_type": "code",
   "execution_count": 33,
   "id": "c5ca9e79",
   "metadata": {},
   "outputs": [
    {
     "name": "stdout",
     "output_type": "stream",
     "text": [
      "[('amazon',), ('breast_cancer_db',), ('company',), ('information_schema',), ('intro_sql',), ('join_sql',), ('lic',), ('my_sqlsql',), ('mysql',), ('new_telco',), ('performance_schema',), ('srkkhansahab',), ('student',), ('sys',), ('titanic',), ('zomato',)]\n"
     ]
    }
   ],
   "source": [
    "import mysql.connector as connection\n",
    "\n",
    "try:\n",
    "    mydb = connection.connect(host= \"localhost\", user= \"root\",passwd=\"srk123\",use_pure= True)\n",
    "    #chech if the connection is established\n",
    "    \n",
    "    query = \"SHOW DATABASES\"\n",
    "    \n",
    "    cursor = mydb.cursor() #create a curser to execute queries\n",
    "    cursor.execute(query)\n",
    "    print(cursor.fetchall())\n",
    "    \n",
    "except Exception as e:\n",
    "        mydb.close()\n",
    "        print(str(e))"
   ]
  },
  {
   "cell_type": "code",
   "execution_count": 34,
   "id": "2b2a871b",
   "metadata": {},
   "outputs": [],
   "source": [
    "import mysql.connector as connection"
   ]
  },
  {
   "cell_type": "code",
   "execution_count": 35,
   "id": "52c8f8f7",
   "metadata": {},
   "outputs": [],
   "source": [
    "conn = connection.connect(host= \"localhost\", user= \"root\",passwd=\"srk123\",use_pure= True)"
   ]
  },
  {
   "cell_type": "code",
   "execution_count": 36,
   "id": "087d3844",
   "metadata": {},
   "outputs": [],
   "source": [
    "cur = conn.cursor()"
   ]
  },
  {
   "cell_type": "code",
   "execution_count": 37,
   "id": "0d9f8a60",
   "metadata": {},
   "outputs": [
    {
     "ename": "DatabaseError",
     "evalue": "1007 (HY000): Can't create database 'lic'; database exists",
     "output_type": "error",
     "traceback": [
      "\u001b[1;31m---------------------------------------------------------------------------\u001b[0m",
      "\u001b[1;31mDatabaseError\u001b[0m                             Traceback (most recent call last)",
      "\u001b[1;32mC:\\Users\\SHAHRU~1\\AppData\\Local\\Temp/ipykernel_8668/2275653119.py\u001b[0m in \u001b[0;36m<module>\u001b[1;34m\u001b[0m\n\u001b[1;32m----> 1\u001b[1;33m \u001b[0mcur\u001b[0m\u001b[1;33m.\u001b[0m\u001b[0mexecute\u001b[0m\u001b[1;33m(\u001b[0m\u001b[1;34m\"create database LIC\"\u001b[0m\u001b[1;33m)\u001b[0m\u001b[1;33m\u001b[0m\u001b[1;33m\u001b[0m\u001b[0m\n\u001b[0m",
      "\u001b[1;32m~\\anaconda3\\lib\\site-packages\\mysql\\connector\\cursor.py\u001b[0m in \u001b[0;36mexecute\u001b[1;34m(self, operation, params, multi)\u001b[0m\n\u001b[0;32m    570\u001b[0m \u001b[1;33m\u001b[0m\u001b[0m\n\u001b[0;32m    571\u001b[0m         \u001b[1;32mtry\u001b[0m\u001b[1;33m:\u001b[0m\u001b[1;33m\u001b[0m\u001b[1;33m\u001b[0m\u001b[0m\n\u001b[1;32m--> 572\u001b[1;33m             \u001b[0mself\u001b[0m\u001b[1;33m.\u001b[0m\u001b[0m_handle_result\u001b[0m\u001b[1;33m(\u001b[0m\u001b[0mself\u001b[0m\u001b[1;33m.\u001b[0m\u001b[0m_connection\u001b[0m\u001b[1;33m.\u001b[0m\u001b[0mcmd_query\u001b[0m\u001b[1;33m(\u001b[0m\u001b[0mstmt\u001b[0m\u001b[1;33m)\u001b[0m\u001b[1;33m)\u001b[0m\u001b[1;33m\u001b[0m\u001b[1;33m\u001b[0m\u001b[0m\n\u001b[0m\u001b[0;32m    573\u001b[0m         \u001b[1;32mexcept\u001b[0m \u001b[0merrors\u001b[0m\u001b[1;33m.\u001b[0m\u001b[0mInterfaceError\u001b[0m\u001b[1;33m:\u001b[0m\u001b[1;33m\u001b[0m\u001b[1;33m\u001b[0m\u001b[0m\n\u001b[0;32m    574\u001b[0m             \u001b[1;32mif\u001b[0m \u001b[0mself\u001b[0m\u001b[1;33m.\u001b[0m\u001b[0m_connection\u001b[0m\u001b[1;33m.\u001b[0m\u001b[0m_have_next_result\u001b[0m\u001b[1;33m:\u001b[0m  \u001b[1;31m# pylint: disable=W0212\u001b[0m\u001b[1;33m\u001b[0m\u001b[1;33m\u001b[0m\u001b[0m\n",
      "\u001b[1;32m~\\anaconda3\\lib\\site-packages\\mysql\\connector\\connection.py\u001b[0m in \u001b[0;36mcmd_query\u001b[1;34m(self, query, raw, buffered, raw_as_string)\u001b[0m\n\u001b[0;32m    920\u001b[0m         \u001b[0mquery\u001b[0m \u001b[1;33m=\u001b[0m \u001b[0mbytes\u001b[0m\u001b[1;33m(\u001b[0m\u001b[0mpacket\u001b[0m\u001b[1;33m)\u001b[0m\u001b[1;33m\u001b[0m\u001b[1;33m\u001b[0m\u001b[0m\n\u001b[0;32m    921\u001b[0m         \u001b[1;32mtry\u001b[0m\u001b[1;33m:\u001b[0m\u001b[1;33m\u001b[0m\u001b[1;33m\u001b[0m\u001b[0m\n\u001b[1;32m--> 922\u001b[1;33m             \u001b[0mresult\u001b[0m \u001b[1;33m=\u001b[0m \u001b[0mself\u001b[0m\u001b[1;33m.\u001b[0m\u001b[0m_handle_result\u001b[0m\u001b[1;33m(\u001b[0m\u001b[0mself\u001b[0m\u001b[1;33m.\u001b[0m\u001b[0m_send_cmd\u001b[0m\u001b[1;33m(\u001b[0m\u001b[0mServerCmd\u001b[0m\u001b[1;33m.\u001b[0m\u001b[0mQUERY\u001b[0m\u001b[1;33m,\u001b[0m \u001b[0mquery\u001b[0m\u001b[1;33m)\u001b[0m\u001b[1;33m)\u001b[0m\u001b[1;33m\u001b[0m\u001b[1;33m\u001b[0m\u001b[0m\n\u001b[0m\u001b[0;32m    923\u001b[0m         \u001b[1;32mexcept\u001b[0m \u001b[0merrors\u001b[0m\u001b[1;33m.\u001b[0m\u001b[0mProgrammingError\u001b[0m \u001b[1;32mas\u001b[0m \u001b[0merr\u001b[0m\u001b[1;33m:\u001b[0m\u001b[1;33m\u001b[0m\u001b[1;33m\u001b[0m\u001b[0m\n\u001b[0;32m    924\u001b[0m             \u001b[1;32mif\u001b[0m \u001b[0merr\u001b[0m\u001b[1;33m.\u001b[0m\u001b[0merrno\u001b[0m \u001b[1;33m==\u001b[0m \u001b[1;36m3948\u001b[0m \u001b[1;32mand\u001b[0m\u001b[0;31m \u001b[0m\u001b[0;31m\\\u001b[0m\u001b[1;33m\u001b[0m\u001b[1;33m\u001b[0m\u001b[0m\n",
      "\u001b[1;32m~\\anaconda3\\lib\\site-packages\\mysql\\connector\\connection.py\u001b[0m in \u001b[0;36m_handle_result\u001b[1;34m(self, packet)\u001b[0m\n\u001b[0;32m    730\u001b[0m             \u001b[1;32mreturn\u001b[0m \u001b[0mself\u001b[0m\u001b[1;33m.\u001b[0m\u001b[0m_handle_eof\u001b[0m\u001b[1;33m(\u001b[0m\u001b[0mpacket\u001b[0m\u001b[1;33m)\u001b[0m\u001b[1;33m\u001b[0m\u001b[1;33m\u001b[0m\u001b[0m\n\u001b[0;32m    731\u001b[0m         \u001b[1;32melif\u001b[0m \u001b[0mpacket\u001b[0m\u001b[1;33m[\u001b[0m\u001b[1;36m4\u001b[0m\u001b[1;33m]\u001b[0m \u001b[1;33m==\u001b[0m \u001b[1;36m255\u001b[0m\u001b[1;33m:\u001b[0m\u001b[1;33m\u001b[0m\u001b[1;33m\u001b[0m\u001b[0m\n\u001b[1;32m--> 732\u001b[1;33m             \u001b[1;32mraise\u001b[0m \u001b[0merrors\u001b[0m\u001b[1;33m.\u001b[0m\u001b[0mget_exception\u001b[0m\u001b[1;33m(\u001b[0m\u001b[0mpacket\u001b[0m\u001b[1;33m)\u001b[0m\u001b[1;33m\u001b[0m\u001b[1;33m\u001b[0m\u001b[0m\n\u001b[0m\u001b[0;32m    733\u001b[0m \u001b[1;33m\u001b[0m\u001b[0m\n\u001b[0;32m    734\u001b[0m         \u001b[1;31m# We have a text result set\u001b[0m\u001b[1;33m\u001b[0m\u001b[1;33m\u001b[0m\u001b[0m\n",
      "\u001b[1;31mDatabaseError\u001b[0m: 1007 (HY000): Can't create database 'lic'; database exists"
     ]
    }
   ],
   "source": [
    "cur.execute(\"create database LIC\")"
   ]
  },
  {
   "cell_type": "code",
   "execution_count": 38,
   "id": "6e91d47d",
   "metadata": {},
   "outputs": [],
   "source": [
    "cur.execute(\"show databases\")"
   ]
  },
  {
   "cell_type": "code",
   "execution_count": 39,
   "id": "b2e24f74",
   "metadata": {},
   "outputs": [],
   "source": [
    "res = cur.fetchall()"
   ]
  },
  {
   "cell_type": "code",
   "execution_count": 40,
   "id": "0158a599",
   "metadata": {},
   "outputs": [
    {
     "data": {
      "text/plain": [
       "[('amazon',),\n",
       " ('breast_cancer_db',),\n",
       " ('company',),\n",
       " ('information_schema',),\n",
       " ('intro_sql',),\n",
       " ('join_sql',),\n",
       " ('lic',),\n",
       " ('my_sqlsql',),\n",
       " ('mysql',),\n",
       " ('new_telco',),\n",
       " ('performance_schema',),\n",
       " ('srkkhansahab',),\n",
       " ('student',),\n",
       " ('sys',),\n",
       " ('titanic',),\n",
       " ('zomato',)]"
      ]
     },
     "execution_count": 40,
     "metadata": {},
     "output_type": "execute_result"
    }
   ],
   "source": [
    "res"
   ]
  },
  {
   "cell_type": "code",
   "execution_count": 41,
   "id": "92619ba8",
   "metadata": {},
   "outputs": [
    {
     "name": "stdout",
     "output_type": "stream",
     "text": [
      "amazon\n",
      "breast_cancer_db\n",
      "company\n",
      "information_schema\n",
      "intro_sql\n",
      "join_sql\n",
      "lic\n",
      "my_sqlsql\n",
      "mysql\n",
      "new_telco\n",
      "performance_schema\n",
      "srkkhansahab\n",
      "student\n",
      "sys\n",
      "titanic\n",
      "zomato\n"
     ]
    }
   ],
   "source": [
    "for i in res:\n",
    "    print(i[0])"
   ]
  },
  {
   "cell_type": "code",
   "execution_count": 42,
   "id": "059ebb38",
   "metadata": {},
   "outputs": [
    {
     "name": "stdout",
     "output_type": "stream",
     "text": [
      "True\n",
      "1007 (HY000): Can't create database 'lic'; database exists\n"
     ]
    }
   ],
   "source": [
    "import mysql.connector as connection\n",
    "\n",
    "try:\n",
    "    mydb = connection.connect(host= \"localhost\", user= \"root\",passwd=\"srk123\",use_pure= True)\n",
    "    #chech if the connection is established\n",
    "    print(mydb.is_connected())\n",
    "    \n",
    "    query = \"create database  LIC ;\"\n",
    "    cursor= mydb.cursor() #create a cursor to execute  queries\n",
    "    cursor.execute(query)\n",
    "    print(\"(Database Created!!\")\n",
    "    mydb.close()\n",
    "except Exception as e:\n",
    "    mydb.close()\n",
    "    print(str(e))"
   ]
  },
  {
   "cell_type": "code",
   "execution_count": 43,
   "id": "b9f42aa0",
   "metadata": {},
   "outputs": [
    {
     "name": "stdout",
     "output_type": "stream",
     "text": [
      "Requirement already satisfied: mysql-connector-python in c:\\users\\shahrukh khan\\anaconda3\\lib\\site-packages (8.0.29)\n",
      "Requirement already satisfied: protobuf>=3.0.0 in c:\\users\\shahrukh khan\\anaconda3\\lib\\site-packages (from mysql-connector-python) (3.20.1)\n"
     ]
    }
   ],
   "source": [
    "!pip install mysql-connector-python"
   ]
  },
  {
   "cell_type": "code",
   "execution_count": 44,
   "id": "dec94fbe",
   "metadata": {},
   "outputs": [
    {
     "name": "stdout",
     "output_type": "stream",
     "text": [
      "True\n",
      "1050 (42S01): Table 'policy' already exists\n"
     ]
    }
   ],
   "source": [
    "import mysql.connector as connection\n",
    "\n",
    "try:\n",
    "    mydb = connection.connect(host= \"localhost\",database = \"LIC\", user= \"root\",passwd=\"srk123\",use_pure= True)\n",
    "    #chech if the connection is established\n",
    "    print(mydb.is_connected())\n",
    "    \n",
    "    query = \"CREATE TABLE POLICY (POLICYid int(10) AUTO_INCREMENT PRIMARY KEY,FirstName VARCHAR (60),\"\\\n",
    "    \"LastName VARCHAR(60),RegistrationDate DATE,Class int(12),Section Varchar(10))\"\n",
    "    \n",
    "    cursor= mydb.cursor() #create a cursor to execute  queries\n",
    "    cursor.execute(query)\n",
    "    print(\"(table Created!!\")\n",
    "    mydb.close()\n",
    "except Exception as e:\n",
    "    mydb.close()\n",
    "    print(str(e))"
   ]
  },
  {
   "cell_type": "code",
   "execution_count": 45,
   "id": "52096c5b",
   "metadata": {},
   "outputs": [],
   "source": [
    "mydb = connection.connect(host= \"localhost\",database = \"LIC\", user= \"root\",passwd=\"srk123\",use_pure= True)"
   ]
  },
  {
   "cell_type": "code",
   "execution_count": 46,
   "id": "ee6b29bd",
   "metadata": {},
   "outputs": [
    {
     "data": {
      "text/plain": [
       "True"
      ]
     },
     "execution_count": 46,
     "metadata": {},
     "output_type": "execute_result"
    }
   ],
   "source": [
    "mydb.is_connected()"
   ]
  },
  {
   "cell_type": "code",
   "execution_count": 47,
   "id": "bc80c267",
   "metadata": {},
   "outputs": [
    {
     "ename": "ProgrammingError",
     "evalue": "1050 (42S01): Table 'pddetails' already exists",
     "output_type": "error",
     "traceback": [
      "\u001b[1;31m---------------------------------------------------------------------------\u001b[0m",
      "\u001b[1;31mProgrammingError\u001b[0m                          Traceback (most recent call last)",
      "\u001b[1;32mC:\\Users\\SHAHRU~1\\AppData\\Local\\Temp/ipykernel_8668/2775458190.py\u001b[0m in \u001b[0;36m<module>\u001b[1;34m\u001b[0m\n\u001b[0;32m      1\u001b[0m \u001b[0mcur\u001b[0m \u001b[1;33m=\u001b[0m \u001b[0mmydb\u001b[0m\u001b[1;33m.\u001b[0m\u001b[0mcursor\u001b[0m\u001b[1;33m(\u001b[0m\u001b[1;33m)\u001b[0m\u001b[1;33m\u001b[0m\u001b[1;33m\u001b[0m\u001b[0m\n\u001b[1;32m----> 2\u001b[1;33m \u001b[0mcur\u001b[0m\u001b[1;33m.\u001b[0m\u001b[0mexecute\u001b[0m\u001b[1;33m(\u001b[0m\u001b[1;34m\"create table  pddetails (x1 int(5), x2 varchar(20),x3 Date)\"\u001b[0m\u001b[1;33m)\u001b[0m\u001b[1;33m\u001b[0m\u001b[1;33m\u001b[0m\u001b[0m\n\u001b[0m\u001b[0;32m      3\u001b[0m \u001b[0mmydb\u001b[0m\u001b[1;33m.\u001b[0m\u001b[0mclose\u001b[0m\u001b[1;33m(\u001b[0m\u001b[1;33m)\u001b[0m\u001b[1;33m\u001b[0m\u001b[1;33m\u001b[0m\u001b[0m\n",
      "\u001b[1;32m~\\anaconda3\\lib\\site-packages\\mysql\\connector\\cursor.py\u001b[0m in \u001b[0;36mexecute\u001b[1;34m(self, operation, params, multi)\u001b[0m\n\u001b[0;32m    570\u001b[0m \u001b[1;33m\u001b[0m\u001b[0m\n\u001b[0;32m    571\u001b[0m         \u001b[1;32mtry\u001b[0m\u001b[1;33m:\u001b[0m\u001b[1;33m\u001b[0m\u001b[1;33m\u001b[0m\u001b[0m\n\u001b[1;32m--> 572\u001b[1;33m             \u001b[0mself\u001b[0m\u001b[1;33m.\u001b[0m\u001b[0m_handle_result\u001b[0m\u001b[1;33m(\u001b[0m\u001b[0mself\u001b[0m\u001b[1;33m.\u001b[0m\u001b[0m_connection\u001b[0m\u001b[1;33m.\u001b[0m\u001b[0mcmd_query\u001b[0m\u001b[1;33m(\u001b[0m\u001b[0mstmt\u001b[0m\u001b[1;33m)\u001b[0m\u001b[1;33m)\u001b[0m\u001b[1;33m\u001b[0m\u001b[1;33m\u001b[0m\u001b[0m\n\u001b[0m\u001b[0;32m    573\u001b[0m         \u001b[1;32mexcept\u001b[0m \u001b[0merrors\u001b[0m\u001b[1;33m.\u001b[0m\u001b[0mInterfaceError\u001b[0m\u001b[1;33m:\u001b[0m\u001b[1;33m\u001b[0m\u001b[1;33m\u001b[0m\u001b[0m\n\u001b[0;32m    574\u001b[0m             \u001b[1;32mif\u001b[0m \u001b[0mself\u001b[0m\u001b[1;33m.\u001b[0m\u001b[0m_connection\u001b[0m\u001b[1;33m.\u001b[0m\u001b[0m_have_next_result\u001b[0m\u001b[1;33m:\u001b[0m  \u001b[1;31m# pylint: disable=W0212\u001b[0m\u001b[1;33m\u001b[0m\u001b[1;33m\u001b[0m\u001b[0m\n",
      "\u001b[1;32m~\\anaconda3\\lib\\site-packages\\mysql\\connector\\connection.py\u001b[0m in \u001b[0;36mcmd_query\u001b[1;34m(self, query, raw, buffered, raw_as_string)\u001b[0m\n\u001b[0;32m    920\u001b[0m         \u001b[0mquery\u001b[0m \u001b[1;33m=\u001b[0m \u001b[0mbytes\u001b[0m\u001b[1;33m(\u001b[0m\u001b[0mpacket\u001b[0m\u001b[1;33m)\u001b[0m\u001b[1;33m\u001b[0m\u001b[1;33m\u001b[0m\u001b[0m\n\u001b[0;32m    921\u001b[0m         \u001b[1;32mtry\u001b[0m\u001b[1;33m:\u001b[0m\u001b[1;33m\u001b[0m\u001b[1;33m\u001b[0m\u001b[0m\n\u001b[1;32m--> 922\u001b[1;33m             \u001b[0mresult\u001b[0m \u001b[1;33m=\u001b[0m \u001b[0mself\u001b[0m\u001b[1;33m.\u001b[0m\u001b[0m_handle_result\u001b[0m\u001b[1;33m(\u001b[0m\u001b[0mself\u001b[0m\u001b[1;33m.\u001b[0m\u001b[0m_send_cmd\u001b[0m\u001b[1;33m(\u001b[0m\u001b[0mServerCmd\u001b[0m\u001b[1;33m.\u001b[0m\u001b[0mQUERY\u001b[0m\u001b[1;33m,\u001b[0m \u001b[0mquery\u001b[0m\u001b[1;33m)\u001b[0m\u001b[1;33m)\u001b[0m\u001b[1;33m\u001b[0m\u001b[1;33m\u001b[0m\u001b[0m\n\u001b[0m\u001b[0;32m    923\u001b[0m         \u001b[1;32mexcept\u001b[0m \u001b[0merrors\u001b[0m\u001b[1;33m.\u001b[0m\u001b[0mProgrammingError\u001b[0m \u001b[1;32mas\u001b[0m \u001b[0merr\u001b[0m\u001b[1;33m:\u001b[0m\u001b[1;33m\u001b[0m\u001b[1;33m\u001b[0m\u001b[0m\n\u001b[0;32m    924\u001b[0m             \u001b[1;32mif\u001b[0m \u001b[0merr\u001b[0m\u001b[1;33m.\u001b[0m\u001b[0merrno\u001b[0m \u001b[1;33m==\u001b[0m \u001b[1;36m3948\u001b[0m \u001b[1;32mand\u001b[0m\u001b[0;31m \u001b[0m\u001b[0;31m\\\u001b[0m\u001b[1;33m\u001b[0m\u001b[1;33m\u001b[0m\u001b[0m\n",
      "\u001b[1;32m~\\anaconda3\\lib\\site-packages\\mysql\\connector\\connection.py\u001b[0m in \u001b[0;36m_handle_result\u001b[1;34m(self, packet)\u001b[0m\n\u001b[0;32m    730\u001b[0m             \u001b[1;32mreturn\u001b[0m \u001b[0mself\u001b[0m\u001b[1;33m.\u001b[0m\u001b[0m_handle_eof\u001b[0m\u001b[1;33m(\u001b[0m\u001b[0mpacket\u001b[0m\u001b[1;33m)\u001b[0m\u001b[1;33m\u001b[0m\u001b[1;33m\u001b[0m\u001b[0m\n\u001b[0;32m    731\u001b[0m         \u001b[1;32melif\u001b[0m \u001b[0mpacket\u001b[0m\u001b[1;33m[\u001b[0m\u001b[1;36m4\u001b[0m\u001b[1;33m]\u001b[0m \u001b[1;33m==\u001b[0m \u001b[1;36m255\u001b[0m\u001b[1;33m:\u001b[0m\u001b[1;33m\u001b[0m\u001b[1;33m\u001b[0m\u001b[0m\n\u001b[1;32m--> 732\u001b[1;33m             \u001b[1;32mraise\u001b[0m \u001b[0merrors\u001b[0m\u001b[1;33m.\u001b[0m\u001b[0mget_exception\u001b[0m\u001b[1;33m(\u001b[0m\u001b[0mpacket\u001b[0m\u001b[1;33m)\u001b[0m\u001b[1;33m\u001b[0m\u001b[1;33m\u001b[0m\u001b[0m\n\u001b[0m\u001b[0;32m    733\u001b[0m \u001b[1;33m\u001b[0m\u001b[0m\n\u001b[0;32m    734\u001b[0m         \u001b[1;31m# We have a text result set\u001b[0m\u001b[1;33m\u001b[0m\u001b[1;33m\u001b[0m\u001b[0m\n",
      "\u001b[1;31mProgrammingError\u001b[0m: 1050 (42S01): Table 'pddetails' already exists"
     ]
    }
   ],
   "source": [
    "cur = mydb.cursor()\n",
    "cur.execute(\"create table  pddetails (x1 int(5), x2 varchar(20),x3 Date)\")\n",
    "mydb.close()"
   ]
  },
  {
   "cell_type": "code",
   "execution_count": 2,
   "id": "2bfdf3da",
   "metadata": {},
   "outputs": [
    {
     "name": "stdout",
     "output_type": "stream",
     "text": [
      "True\n",
      "(values inserted into a table!!\n"
     ]
    }
   ],
   "source": [
    "import mysql.connector as connection\n",
    "\n",
    "try:\n",
    "    mydb = connection.connect(host= \"localhost\",database = \"LIC\", user = \"root\",passwd =\"srk123\",use_pure= True)\n",
    "    #chech if the connection is established\n",
    "    print(mydb.is_connected())\n",
    "    \n",
    "    query = \"INSERT INTO POLICY VALUES('1132','SKKK','KHAN','1995-07-03','11', 'A')\"\n",
    "    \n",
    "    cursor= mydb.cursor() #create a cursor to execute  queries\n",
    "    cursor.execute(query)\n",
    "    print(\"(values inserted into a table!!\")\n",
    "    mydb.close()\n",
    "except Exception as e:\n",
    "    mydb.close()\n",
    "    print(str(e))"
   ]
  },
  {
   "cell_type": "code",
   "execution_count": 49,
   "id": "2a6ead37",
   "metadata": {},
   "outputs": [
    {
     "ename": "OperationalError",
     "evalue": "2055: Lost connection to MySQL server at 'localhost:3306', system error: 10038 An operation was attempted on something that is not a socket",
     "output_type": "error",
     "traceback": [
      "\u001b[1;31m---------------------------------------------------------------------------\u001b[0m",
      "\u001b[1;31mOSError\u001b[0m                                   Traceback (most recent call last)",
      "\u001b[1;32m~\\anaconda3\\lib\\site-packages\\mysql\\connector\\network.py\u001b[0m in \u001b[0;36msend_plain\u001b[1;34m(self, buf, packet_number, compressed_packet_number)\u001b[0m\n\u001b[0;32m    160\u001b[0m             \u001b[1;32mtry\u001b[0m\u001b[1;33m:\u001b[0m\u001b[1;33m\u001b[0m\u001b[1;33m\u001b[0m\u001b[0m\n\u001b[1;32m--> 161\u001b[1;33m                 \u001b[0mself\u001b[0m\u001b[1;33m.\u001b[0m\u001b[0msock\u001b[0m\u001b[1;33m.\u001b[0m\u001b[0msendall\u001b[0m\u001b[1;33m(\u001b[0m\u001b[0mpacket\u001b[0m\u001b[1;33m)\u001b[0m\u001b[1;33m\u001b[0m\u001b[1;33m\u001b[0m\u001b[0m\n\u001b[0m\u001b[0;32m    162\u001b[0m             \u001b[1;32mexcept\u001b[0m \u001b[0mIOError\u001b[0m \u001b[1;32mas\u001b[0m \u001b[0merr\u001b[0m\u001b[1;33m:\u001b[0m\u001b[1;33m\u001b[0m\u001b[1;33m\u001b[0m\u001b[0m\n",
      "\u001b[1;32m~\\anaconda3\\lib\\ssl.py\u001b[0m in \u001b[0;36msendall\u001b[1;34m(self, data, flags)\u001b[0m\n\u001b[0;32m   1206\u001b[0m         \u001b[1;32melse\u001b[0m\u001b[1;33m:\u001b[0m\u001b[1;33m\u001b[0m\u001b[1;33m\u001b[0m\u001b[0m\n\u001b[1;32m-> 1207\u001b[1;33m             \u001b[1;32mreturn\u001b[0m \u001b[0msuper\u001b[0m\u001b[1;33m(\u001b[0m\u001b[1;33m)\u001b[0m\u001b[1;33m.\u001b[0m\u001b[0msendall\u001b[0m\u001b[1;33m(\u001b[0m\u001b[0mdata\u001b[0m\u001b[1;33m,\u001b[0m \u001b[0mflags\u001b[0m\u001b[1;33m)\u001b[0m\u001b[1;33m\u001b[0m\u001b[1;33m\u001b[0m\u001b[0m\n\u001b[0m\u001b[0;32m   1208\u001b[0m \u001b[1;33m\u001b[0m\u001b[0m\n",
      "\u001b[1;31mOSError\u001b[0m: [WinError 10038] An operation was attempted on something that is not a socket",
      "\nDuring handling of the above exception, another exception occurred:\n",
      "\u001b[1;31mOperationalError\u001b[0m                          Traceback (most recent call last)",
      "\u001b[1;32mC:\\Users\\SHAHRU~1\\AppData\\Local\\Temp/ipykernel_8668/4062422964.py\u001b[0m in \u001b[0;36m<module>\u001b[1;34m\u001b[0m\n\u001b[1;32m----> 1\u001b[1;33m \u001b[0mmydb\u001b[0m\u001b[1;33m.\u001b[0m\u001b[0mcommit\u001b[0m\u001b[1;33m(\u001b[0m\u001b[1;33m)\u001b[0m\u001b[1;33m\u001b[0m\u001b[1;33m\u001b[0m\u001b[0m\n\u001b[0m",
      "\u001b[1;32m~\\anaconda3\\lib\\site-packages\\mysql\\connector\\connection.py\u001b[0m in \u001b[0;36mcommit\u001b[1;34m(self)\u001b[0m\n\u001b[0;32m   1321\u001b[0m     \u001b[1;32mdef\u001b[0m \u001b[0mcommit\u001b[0m\u001b[1;33m(\u001b[0m\u001b[0mself\u001b[0m\u001b[1;33m)\u001b[0m\u001b[1;33m:\u001b[0m\u001b[1;33m\u001b[0m\u001b[1;33m\u001b[0m\u001b[0m\n\u001b[0;32m   1322\u001b[0m         \u001b[1;34m\"\"\"Commit current transaction\"\"\"\u001b[0m\u001b[1;33m\u001b[0m\u001b[1;33m\u001b[0m\u001b[0m\n\u001b[1;32m-> 1323\u001b[1;33m         \u001b[0mself\u001b[0m\u001b[1;33m.\u001b[0m\u001b[0m_execute_query\u001b[0m\u001b[1;33m(\u001b[0m\u001b[1;34m\"COMMIT\"\u001b[0m\u001b[1;33m)\u001b[0m\u001b[1;33m\u001b[0m\u001b[1;33m\u001b[0m\u001b[0m\n\u001b[0m\u001b[0;32m   1324\u001b[0m \u001b[1;33m\u001b[0m\u001b[0m\n\u001b[0;32m   1325\u001b[0m     \u001b[1;32mdef\u001b[0m \u001b[0mrollback\u001b[0m\u001b[1;33m(\u001b[0m\u001b[0mself\u001b[0m\u001b[1;33m)\u001b[0m\u001b[1;33m:\u001b[0m\u001b[1;33m\u001b[0m\u001b[1;33m\u001b[0m\u001b[0m\n",
      "\u001b[1;32m~\\anaconda3\\lib\\site-packages\\mysql\\connector\\connection.py\u001b[0m in \u001b[0;36m_execute_query\u001b[1;34m(self, query)\u001b[0m\n\u001b[0;32m   1340\u001b[0m         \"\"\"\n\u001b[0;32m   1341\u001b[0m         \u001b[0mself\u001b[0m\u001b[1;33m.\u001b[0m\u001b[0mhandle_unread_result\u001b[0m\u001b[1;33m(\u001b[0m\u001b[1;33m)\u001b[0m\u001b[1;33m\u001b[0m\u001b[1;33m\u001b[0m\u001b[0m\n\u001b[1;32m-> 1342\u001b[1;33m         \u001b[0mself\u001b[0m\u001b[1;33m.\u001b[0m\u001b[0mcmd_query\u001b[0m\u001b[1;33m(\u001b[0m\u001b[0mquery\u001b[0m\u001b[1;33m)\u001b[0m\u001b[1;33m\u001b[0m\u001b[1;33m\u001b[0m\u001b[0m\n\u001b[0m\u001b[0;32m   1343\u001b[0m \u001b[1;33m\u001b[0m\u001b[0m\n\u001b[0;32m   1344\u001b[0m     \u001b[1;32mdef\u001b[0m \u001b[0minfo_query\u001b[0m\u001b[1;33m(\u001b[0m\u001b[0mself\u001b[0m\u001b[1;33m,\u001b[0m \u001b[0mquery\u001b[0m\u001b[1;33m)\u001b[0m\u001b[1;33m:\u001b[0m\u001b[1;33m\u001b[0m\u001b[1;33m\u001b[0m\u001b[0m\n",
      "\u001b[1;32m~\\anaconda3\\lib\\site-packages\\mysql\\connector\\connection.py\u001b[0m in \u001b[0;36mcmd_query\u001b[1;34m(self, query, raw, buffered, raw_as_string)\u001b[0m\n\u001b[0;32m    920\u001b[0m         \u001b[0mquery\u001b[0m \u001b[1;33m=\u001b[0m \u001b[0mbytes\u001b[0m\u001b[1;33m(\u001b[0m\u001b[0mpacket\u001b[0m\u001b[1;33m)\u001b[0m\u001b[1;33m\u001b[0m\u001b[1;33m\u001b[0m\u001b[0m\n\u001b[0;32m    921\u001b[0m         \u001b[1;32mtry\u001b[0m\u001b[1;33m:\u001b[0m\u001b[1;33m\u001b[0m\u001b[1;33m\u001b[0m\u001b[0m\n\u001b[1;32m--> 922\u001b[1;33m             \u001b[0mresult\u001b[0m \u001b[1;33m=\u001b[0m \u001b[0mself\u001b[0m\u001b[1;33m.\u001b[0m\u001b[0m_handle_result\u001b[0m\u001b[1;33m(\u001b[0m\u001b[0mself\u001b[0m\u001b[1;33m.\u001b[0m\u001b[0m_send_cmd\u001b[0m\u001b[1;33m(\u001b[0m\u001b[0mServerCmd\u001b[0m\u001b[1;33m.\u001b[0m\u001b[0mQUERY\u001b[0m\u001b[1;33m,\u001b[0m \u001b[0mquery\u001b[0m\u001b[1;33m)\u001b[0m\u001b[1;33m)\u001b[0m\u001b[1;33m\u001b[0m\u001b[1;33m\u001b[0m\u001b[0m\n\u001b[0m\u001b[0;32m    923\u001b[0m         \u001b[1;32mexcept\u001b[0m \u001b[0merrors\u001b[0m\u001b[1;33m.\u001b[0m\u001b[0mProgrammingError\u001b[0m \u001b[1;32mas\u001b[0m \u001b[0merr\u001b[0m\u001b[1;33m:\u001b[0m\u001b[1;33m\u001b[0m\u001b[1;33m\u001b[0m\u001b[0m\n\u001b[0;32m    924\u001b[0m             \u001b[1;32mif\u001b[0m \u001b[0merr\u001b[0m\u001b[1;33m.\u001b[0m\u001b[0merrno\u001b[0m \u001b[1;33m==\u001b[0m \u001b[1;36m3948\u001b[0m \u001b[1;32mand\u001b[0m\u001b[0;31m \u001b[0m\u001b[0;31m\\\u001b[0m\u001b[1;33m\u001b[0m\u001b[1;33m\u001b[0m\u001b[0m\n",
      "\u001b[1;32m~\\anaconda3\\lib\\site-packages\\mysql\\connector\\connection.py\u001b[0m in \u001b[0;36m_send_cmd\u001b[1;34m(self, command, argument, packet_number, packet, expect_response, compressed_packet_number)\u001b[0m\n\u001b[0;32m    567\u001b[0m \u001b[1;33m\u001b[0m\u001b[0m\n\u001b[0;32m    568\u001b[0m         \u001b[1;32mtry\u001b[0m\u001b[1;33m:\u001b[0m\u001b[1;33m\u001b[0m\u001b[1;33m\u001b[0m\u001b[0m\n\u001b[1;32m--> 569\u001b[1;33m             self._socket.send(\n\u001b[0m\u001b[0;32m    570\u001b[0m                 \u001b[0mself\u001b[0m\u001b[1;33m.\u001b[0m\u001b[0m_protocol\u001b[0m\u001b[1;33m.\u001b[0m\u001b[0mmake_command\u001b[0m\u001b[1;33m(\u001b[0m\u001b[0mcommand\u001b[0m\u001b[1;33m,\u001b[0m \u001b[0mpacket\u001b[0m \u001b[1;32mor\u001b[0m \u001b[0margument\u001b[0m\u001b[1;33m)\u001b[0m\u001b[1;33m,\u001b[0m\u001b[1;33m\u001b[0m\u001b[1;33m\u001b[0m\u001b[0m\n\u001b[0;32m    571\u001b[0m                 packet_number, compressed_packet_number)\n",
      "\u001b[1;32m~\\anaconda3\\lib\\site-packages\\mysql\\connector\\network.py\u001b[0m in \u001b[0;36msend_plain\u001b[1;34m(self, buf, packet_number, compressed_packet_number)\u001b[0m\n\u001b[0;32m    161\u001b[0m                 \u001b[0mself\u001b[0m\u001b[1;33m.\u001b[0m\u001b[0msock\u001b[0m\u001b[1;33m.\u001b[0m\u001b[0msendall\u001b[0m\u001b[1;33m(\u001b[0m\u001b[0mpacket\u001b[0m\u001b[1;33m)\u001b[0m\u001b[1;33m\u001b[0m\u001b[1;33m\u001b[0m\u001b[0m\n\u001b[0;32m    162\u001b[0m             \u001b[1;32mexcept\u001b[0m \u001b[0mIOError\u001b[0m \u001b[1;32mas\u001b[0m \u001b[0merr\u001b[0m\u001b[1;33m:\u001b[0m\u001b[1;33m\u001b[0m\u001b[1;33m\u001b[0m\u001b[0m\n\u001b[1;32m--> 163\u001b[1;33m                 raise errors.OperationalError(\n\u001b[0m\u001b[0;32m    164\u001b[0m                     errno=2055, values=(self.get_address(), _strioerror(err)))\n\u001b[0;32m    165\u001b[0m             \u001b[1;32mexcept\u001b[0m \u001b[0mAttributeError\u001b[0m\u001b[1;33m:\u001b[0m\u001b[1;33m\u001b[0m\u001b[1;33m\u001b[0m\u001b[0m\n",
      "\u001b[1;31mOperationalError\u001b[0m: 2055: Lost connection to MySQL server at 'localhost:3306', system error: 10038 An operation was attempted on something that is not a socket"
     ]
    }
   ],
   "source": [
    "mydb.commit()"
   ]
  },
  {
   "cell_type": "code",
   "execution_count": 60,
   "id": "40be3ccd",
   "metadata": {},
   "outputs": [],
   "source": [
    "mydb = connection.connect(host= \"localhost\",database = \"LIC\", user= \"root\",passwd=\"srk123\",use_pure= True) #??????"
   ]
  },
  {
   "cell_type": "code",
   "execution_count": 51,
   "id": "c309fd56",
   "metadata": {},
   "outputs": [],
   "source": [
    "cur = mydb.cursor()"
   ]
  },
  {
   "cell_type": "code",
   "execution_count": 52,
   "id": "b4fc102a",
   "metadata": {},
   "outputs": [],
   "source": [
    "cur.execute(\"insert into pddetails values(456,'ssks','2021-05-16')\")#yyyy/mm/dd"
   ]
  },
  {
   "cell_type": "code",
   "execution_count": 61,
   "id": "ec24b83a",
   "metadata": {},
   "outputs": [],
   "source": [
    "mydb.commit()"
   ]
  },
  {
   "cell_type": "code",
   "execution_count": 54,
   "id": "a5b086fa",
   "metadata": {},
   "outputs": [],
   "source": [
    "cur.execute(\"insert into pddetails values(4568,'hdfss','2021-05-16')\")#yyyy/mm/dd"
   ]
  },
  {
   "cell_type": "code",
   "execution_count": 55,
   "id": "7b292c41",
   "metadata": {},
   "outputs": [
    {
     "name": "stdout",
     "output_type": "stream",
     "text": [
      "True\n",
      "(456, 'ssks', datetime.date(2021, 5, 16))\n",
      "(456, 'ssks', datetime.date(2021, 5, 16))\n",
      "(4568, 'hdfss', datetime.date(2021, 5, 16))\n",
      "(4568, 'hdfss', datetime.date(2021, 5, 16))\n",
      "(4568, 'hdfss', datetime.date(2021, 5, 16))\n",
      "(4568, 'hdfss', datetime.date(2021, 5, 16))\n",
      "(4568, 'hdfss', datetime.date(2021, 5, 16))\n",
      "(4568, 'hdfss', datetime.date(2021, 5, 16))\n",
      "(4568, 'hdfss', datetime.date(2021, 5, 16))\n",
      "(4568, 'hdfss', datetime.date(2021, 5, 16))\n",
      "(4568, 'hdfss', datetime.date(2021, 5, 16))\n",
      "(456, 'ssks', datetime.date(2021, 5, 16))\n",
      "(456, 'ssks', datetime.date(2021, 5, 16))\n",
      "(456, 'ssks', datetime.date(2021, 5, 16))\n",
      "(456, 'ssks', datetime.date(2021, 5, 16))\n",
      "(456, 'ssks', datetime.date(2021, 5, 16))\n",
      "(456, 'ssks', datetime.date(2021, 5, 16))\n"
     ]
    }
   ],
   "source": [
    "import mysql.connector as connection\n",
    "\n",
    "try:\n",
    "    mydb = connection.connect(host= \"localhost\",database = \"LIC\", user = \"root\",passwd =\"srk123\",use_pure= True)\n",
    "    #chech if the connection is established\n",
    "    print(mydb.is_connected())\n",
    "    \n",
    "    query = \"select * from pddetails\"\n",
    "    \n",
    "    cursor= mydb.cursor() #create a cursor to execute  queries\n",
    "    cursor.execute(query)\n",
    "    for results in cursor.fetchall():\n",
    "        print(results)\n",
    "    mydb.close()# close the connection\n",
    "    \n",
    "except Exception as e:\n",
    "    #mydb.close()\n",
    "    print(str(e))"
   ]
  },
  {
   "cell_type": "code",
   "execution_count": 62,
   "id": "c3b8e029",
   "metadata": {},
   "outputs": [],
   "source": [
    "cur1 = mydb.cursor()\n",
    "cur1.execute(\"select * from pddetails \")"
   ]
  },
  {
   "cell_type": "code",
   "execution_count": 63,
   "id": "f43c38cb",
   "metadata": {},
   "outputs": [
    {
     "name": "stdout",
     "output_type": "stream",
     "text": [
      "(456, 'ssks', datetime.date(2021, 5, 16))\n",
      "(456, 'ssks', datetime.date(2021, 5, 16))\n",
      "(4568, 'hdfss', datetime.date(2021, 5, 16))\n",
      "(4568, 'hdfss', datetime.date(2021, 5, 16))\n",
      "(4568, 'hdfss', datetime.date(2021, 5, 16))\n",
      "(4568, 'hdfss', datetime.date(2021, 5, 16))\n",
      "(4568, 'hdfss', datetime.date(2021, 5, 16))\n",
      "(4568, 'hdfss', datetime.date(2021, 5, 16))\n",
      "(4568, 'hdfss', datetime.date(2021, 5, 16))\n",
      "(4568, 'hdfss', datetime.date(2021, 5, 16))\n",
      "(4568, 'hdfss', datetime.date(2021, 5, 16))\n",
      "(456, 'ssks', datetime.date(2021, 5, 16))\n",
      "(456, 'ssks', datetime.date(2021, 5, 16))\n",
      "(456, 'ssks', datetime.date(2021, 5, 16))\n",
      "(456, 'ssks', datetime.date(2021, 5, 16))\n",
      "(456, 'ssks', datetime.date(2021, 5, 16))\n",
      "(456, 'ssks', datetime.date(2021, 5, 16))\n"
     ]
    }
   ],
   "source": [
    "for i in cur1.fetchall():\n",
    "     print(i)"
   ]
  },
  {
   "cell_type": "code",
   "execution_count": 64,
   "id": "30d08ec2",
   "metadata": {},
   "outputs": [],
   "source": [
    "cur1 = mydb.cursor()\n",
    "cur1.execute(\"select x1,x2 from pddetails \")"
   ]
  },
  {
   "cell_type": "code",
   "execution_count": 65,
   "id": "ffe288e9",
   "metadata": {},
   "outputs": [
    {
     "name": "stdout",
     "output_type": "stream",
     "text": [
      "(456, 'ssks')\n",
      "(456, 'ssks')\n",
      "(4568, 'hdfss')\n",
      "(4568, 'hdfss')\n",
      "(4568, 'hdfss')\n",
      "(4568, 'hdfss')\n",
      "(4568, 'hdfss')\n",
      "(4568, 'hdfss')\n",
      "(4568, 'hdfss')\n",
      "(4568, 'hdfss')\n",
      "(4568, 'hdfss')\n",
      "(456, 'ssks')\n",
      "(456, 'ssks')\n",
      "(456, 'ssks')\n",
      "(456, 'ssks')\n",
      "(456, 'ssks')\n",
      "(456, 'ssks')\n"
     ]
    }
   ],
   "source": [
    "for i in cur1.fetchall():\n",
    "    print(i)"
   ]
  },
  {
   "cell_type": "code",
   "execution_count": 66,
   "id": "7cc78cd4",
   "metadata": {},
   "outputs": [],
   "source": [
    "import pandas as pd"
   ]
  },
  {
   "cell_type": "code",
   "execution_count": 67,
   "id": "3ec3f405",
   "metadata": {},
   "outputs": [
    {
     "data": {
      "text/plain": [
       "<mysql.connector.connection.MySQLConnection at 0x20d3dc54370>"
      ]
     },
     "execution_count": 67,
     "metadata": {},
     "output_type": "execute_result"
    }
   ],
   "source": [
    "mydb"
   ]
  },
  {
   "cell_type": "code",
   "execution_count": 70,
   "id": "465586a7",
   "metadata": {},
   "outputs": [
    {
     "data": {
      "text/html": [
       "<div>\n",
       "<style scoped>\n",
       "    .dataframe tbody tr th:only-of-type {\n",
       "        vertical-align: middle;\n",
       "    }\n",
       "\n",
       "    .dataframe tbody tr th {\n",
       "        vertical-align: top;\n",
       "    }\n",
       "\n",
       "    .dataframe thead th {\n",
       "        text-align: right;\n",
       "    }\n",
       "</style>\n",
       "<table border=\"1\" class=\"dataframe\">\n",
       "  <thead>\n",
       "    <tr style=\"text-align: right;\">\n",
       "      <th></th>\n",
       "      <th>x1</th>\n",
       "      <th>x2</th>\n",
       "    </tr>\n",
       "  </thead>\n",
       "  <tbody>\n",
       "    <tr>\n",
       "      <th>0</th>\n",
       "      <td>456</td>\n",
       "      <td>ssks</td>\n",
       "    </tr>\n",
       "    <tr>\n",
       "      <th>1</th>\n",
       "      <td>456</td>\n",
       "      <td>ssks</td>\n",
       "    </tr>\n",
       "    <tr>\n",
       "      <th>2</th>\n",
       "      <td>4568</td>\n",
       "      <td>hdfss</td>\n",
       "    </tr>\n",
       "    <tr>\n",
       "      <th>3</th>\n",
       "      <td>4568</td>\n",
       "      <td>hdfss</td>\n",
       "    </tr>\n",
       "    <tr>\n",
       "      <th>4</th>\n",
       "      <td>4568</td>\n",
       "      <td>hdfss</td>\n",
       "    </tr>\n",
       "    <tr>\n",
       "      <th>5</th>\n",
       "      <td>4568</td>\n",
       "      <td>hdfss</td>\n",
       "    </tr>\n",
       "    <tr>\n",
       "      <th>6</th>\n",
       "      <td>4568</td>\n",
       "      <td>hdfss</td>\n",
       "    </tr>\n",
       "    <tr>\n",
       "      <th>7</th>\n",
       "      <td>4568</td>\n",
       "      <td>hdfss</td>\n",
       "    </tr>\n",
       "    <tr>\n",
       "      <th>8</th>\n",
       "      <td>4568</td>\n",
       "      <td>hdfss</td>\n",
       "    </tr>\n",
       "    <tr>\n",
       "      <th>9</th>\n",
       "      <td>4568</td>\n",
       "      <td>hdfss</td>\n",
       "    </tr>\n",
       "    <tr>\n",
       "      <th>10</th>\n",
       "      <td>4568</td>\n",
       "      <td>hdfss</td>\n",
       "    </tr>\n",
       "    <tr>\n",
       "      <th>11</th>\n",
       "      <td>456</td>\n",
       "      <td>ssks</td>\n",
       "    </tr>\n",
       "    <tr>\n",
       "      <th>12</th>\n",
       "      <td>456</td>\n",
       "      <td>ssks</td>\n",
       "    </tr>\n",
       "    <tr>\n",
       "      <th>13</th>\n",
       "      <td>456</td>\n",
       "      <td>ssks</td>\n",
       "    </tr>\n",
       "    <tr>\n",
       "      <th>14</th>\n",
       "      <td>456</td>\n",
       "      <td>ssks</td>\n",
       "    </tr>\n",
       "    <tr>\n",
       "      <th>15</th>\n",
       "      <td>456</td>\n",
       "      <td>ssks</td>\n",
       "    </tr>\n",
       "    <tr>\n",
       "      <th>16</th>\n",
       "      <td>456</td>\n",
       "      <td>ssks</td>\n",
       "    </tr>\n",
       "  </tbody>\n",
       "</table>\n",
       "</div>"
      ],
      "text/plain": [
       "      x1     x2\n",
       "0    456   ssks\n",
       "1    456   ssks\n",
       "2   4568  hdfss\n",
       "3   4568  hdfss\n",
       "4   4568  hdfss\n",
       "5   4568  hdfss\n",
       "6   4568  hdfss\n",
       "7   4568  hdfss\n",
       "8   4568  hdfss\n",
       "9   4568  hdfss\n",
       "10  4568  hdfss\n",
       "11   456   ssks\n",
       "12   456   ssks\n",
       "13   456   ssks\n",
       "14   456   ssks\n",
       "15   456   ssks\n",
       "16   456   ssks"
      ]
     },
     "execution_count": 70,
     "metadata": {},
     "output_type": "execute_result"
    }
   ],
   "source": [
    "pd.read_sql(\" select x1,x2 from LIC.pddetails \",mydb)"
   ]
  },
  {
   "cell_type": "code",
   "execution_count": 71,
   "id": "12972850",
   "metadata": {},
   "outputs": [],
   "source": [
    "a = pd.read_sql(\" select x1,x2 from LIC.pddetails \",mydb)"
   ]
  },
  {
   "cell_type": "code",
   "execution_count": 72,
   "id": "abcb2b5b",
   "metadata": {},
   "outputs": [],
   "source": [
    "a.to_csv(\"mydata.csv\")"
   ]
  },
  {
   "cell_type": "code",
   "execution_count": 74,
   "id": "51a7c0ba",
   "metadata": {},
   "outputs": [
    {
     "data": {
      "text/plain": [
       "<mysql.connector.connection.MySQLConnection at 0x20d3e19fa60>"
      ]
     },
     "execution_count": 74,
     "metadata": {},
     "output_type": "execute_result"
    }
   ],
   "source": [
    "mydb = connection.connect(host= \"localhost\",database = \"LIC\", user = \"root\",passwd =\"srk123\",use_pure= True)\n",
    "mydb"
   ]
  },
  {
   "cell_type": "code",
   "execution_count": 79,
   "id": "635f6ebf",
   "metadata": {},
   "outputs": [],
   "source": [
    "cur = mydb.cursor()\n",
    "cur.execute(\"create table mydata(n1 int(20), n2 varchar(20), n3 Date )\")"
   ]
  },
  {
   "cell_type": "code",
   "execution_count": 80,
   "id": "765128ec",
   "metadata": {},
   "outputs": [],
   "source": [
    "data = pd.read_csv(\"mydata.csv\")"
   ]
  },
  {
   "cell_type": "code",
   "execution_count": 81,
   "id": "fae2ae06",
   "metadata": {},
   "outputs": [
    {
     "data": {
      "text/html": [
       "<div>\n",
       "<style scoped>\n",
       "    .dataframe tbody tr th:only-of-type {\n",
       "        vertical-align: middle;\n",
       "    }\n",
       "\n",
       "    .dataframe tbody tr th {\n",
       "        vertical-align: top;\n",
       "    }\n",
       "\n",
       "    .dataframe thead th {\n",
       "        text-align: right;\n",
       "    }\n",
       "</style>\n",
       "<table border=\"1\" class=\"dataframe\">\n",
       "  <thead>\n",
       "    <tr style=\"text-align: right;\">\n",
       "      <th></th>\n",
       "      <th>Unnamed: 0</th>\n",
       "      <th>x1</th>\n",
       "      <th>x2</th>\n",
       "    </tr>\n",
       "  </thead>\n",
       "  <tbody>\n",
       "    <tr>\n",
       "      <th>0</th>\n",
       "      <td>0</td>\n",
       "      <td>456</td>\n",
       "      <td>ssks</td>\n",
       "    </tr>\n",
       "    <tr>\n",
       "      <th>1</th>\n",
       "      <td>1</td>\n",
       "      <td>456</td>\n",
       "      <td>ssks</td>\n",
       "    </tr>\n",
       "    <tr>\n",
       "      <th>2</th>\n",
       "      <td>2</td>\n",
       "      <td>4568</td>\n",
       "      <td>hdfss</td>\n",
       "    </tr>\n",
       "    <tr>\n",
       "      <th>3</th>\n",
       "      <td>3</td>\n",
       "      <td>4568</td>\n",
       "      <td>hdfss</td>\n",
       "    </tr>\n",
       "    <tr>\n",
       "      <th>4</th>\n",
       "      <td>4</td>\n",
       "      <td>4568</td>\n",
       "      <td>hdfss</td>\n",
       "    </tr>\n",
       "    <tr>\n",
       "      <th>5</th>\n",
       "      <td>5</td>\n",
       "      <td>4568</td>\n",
       "      <td>hdfss</td>\n",
       "    </tr>\n",
       "    <tr>\n",
       "      <th>6</th>\n",
       "      <td>6</td>\n",
       "      <td>4568</td>\n",
       "      <td>hdfss</td>\n",
       "    </tr>\n",
       "    <tr>\n",
       "      <th>7</th>\n",
       "      <td>7</td>\n",
       "      <td>4568</td>\n",
       "      <td>hdfss</td>\n",
       "    </tr>\n",
       "    <tr>\n",
       "      <th>8</th>\n",
       "      <td>8</td>\n",
       "      <td>4568</td>\n",
       "      <td>hdfss</td>\n",
       "    </tr>\n",
       "    <tr>\n",
       "      <th>9</th>\n",
       "      <td>9</td>\n",
       "      <td>4568</td>\n",
       "      <td>hdfss</td>\n",
       "    </tr>\n",
       "    <tr>\n",
       "      <th>10</th>\n",
       "      <td>10</td>\n",
       "      <td>4568</td>\n",
       "      <td>hdfss</td>\n",
       "    </tr>\n",
       "    <tr>\n",
       "      <th>11</th>\n",
       "      <td>11</td>\n",
       "      <td>456</td>\n",
       "      <td>ssks</td>\n",
       "    </tr>\n",
       "    <tr>\n",
       "      <th>12</th>\n",
       "      <td>12</td>\n",
       "      <td>456</td>\n",
       "      <td>ssks</td>\n",
       "    </tr>\n",
       "    <tr>\n",
       "      <th>13</th>\n",
       "      <td>13</td>\n",
       "      <td>456</td>\n",
       "      <td>ssks</td>\n",
       "    </tr>\n",
       "    <tr>\n",
       "      <th>14</th>\n",
       "      <td>14</td>\n",
       "      <td>456</td>\n",
       "      <td>ssks</td>\n",
       "    </tr>\n",
       "    <tr>\n",
       "      <th>15</th>\n",
       "      <td>15</td>\n",
       "      <td>456</td>\n",
       "      <td>ssks</td>\n",
       "    </tr>\n",
       "    <tr>\n",
       "      <th>16</th>\n",
       "      <td>16</td>\n",
       "      <td>456</td>\n",
       "      <td>ssks</td>\n",
       "    </tr>\n",
       "  </tbody>\n",
       "</table>\n",
       "</div>"
      ],
      "text/plain": [
       "    Unnamed: 0    x1     x2\n",
       "0            0   456   ssks\n",
       "1            1   456   ssks\n",
       "2            2  4568  hdfss\n",
       "3            3  4568  hdfss\n",
       "4            4  4568  hdfss\n",
       "5            5  4568  hdfss\n",
       "6            6  4568  hdfss\n",
       "7            7  4568  hdfss\n",
       "8            8  4568  hdfss\n",
       "9            9  4568  hdfss\n",
       "10          10  4568  hdfss\n",
       "11          11   456   ssks\n",
       "12          12   456   ssks\n",
       "13          13   456   ssks\n",
       "14          14   456   ssks\n",
       "15          15   456   ssks\n",
       "16          16   456   ssks"
      ]
     },
     "execution_count": 81,
     "metadata": {},
     "output_type": "execute_result"
    }
   ],
   "source": [
    "data"
   ]
  },
  {
   "cell_type": "code",
   "execution_count": 84,
   "id": "c8a17776",
   "metadata": {},
   "outputs": [
    {
     "ename": "DatabaseError",
     "evalue": "Execution failed on sql 'SELECT name FROM sqlite_master WHERE type='table' AND name=?;': Not all parameters were used in the SQL statement",
     "output_type": "error",
     "traceback": [
      "\u001b[1;31m---------------------------------------------------------------------------\u001b[0m",
      "\u001b[1;31mProgrammingError\u001b[0m                          Traceback (most recent call last)",
      "\u001b[1;32m~\\anaconda3\\lib\\site-packages\\pandas\\io\\sql.py\u001b[0m in \u001b[0;36mexecute\u001b[1;34m(self, *args, **kwargs)\u001b[0m\n\u001b[0;32m   2055\u001b[0m         \u001b[1;32mtry\u001b[0m\u001b[1;33m:\u001b[0m\u001b[1;33m\u001b[0m\u001b[1;33m\u001b[0m\u001b[0m\n\u001b[1;32m-> 2056\u001b[1;33m             \u001b[0mcur\u001b[0m\u001b[1;33m.\u001b[0m\u001b[0mexecute\u001b[0m\u001b[1;33m(\u001b[0m\u001b[1;33m*\u001b[0m\u001b[0margs\u001b[0m\u001b[1;33m,\u001b[0m \u001b[1;33m**\u001b[0m\u001b[0mkwargs\u001b[0m\u001b[1;33m)\u001b[0m\u001b[1;33m\u001b[0m\u001b[1;33m\u001b[0m\u001b[0m\n\u001b[0m\u001b[0;32m   2057\u001b[0m             \u001b[1;32mreturn\u001b[0m \u001b[0mcur\u001b[0m\u001b[1;33m\u001b[0m\u001b[1;33m\u001b[0m\u001b[0m\n",
      "\u001b[1;32m~\\anaconda3\\lib\\site-packages\\mysql\\connector\\cursor.py\u001b[0m in \u001b[0;36mexecute\u001b[1;34m(self, operation, params, multi)\u001b[0m\n\u001b[0;32m    558\u001b[0m                 \u001b[1;32mif\u001b[0m \u001b[0mpsub\u001b[0m\u001b[1;33m.\u001b[0m\u001b[0mremaining\u001b[0m \u001b[1;33m!=\u001b[0m \u001b[1;36m0\u001b[0m\u001b[1;33m:\u001b[0m\u001b[1;33m\u001b[0m\u001b[1;33m\u001b[0m\u001b[0m\n\u001b[1;32m--> 559\u001b[1;33m                     raise errors.ProgrammingError(\n\u001b[0m\u001b[0;32m    560\u001b[0m                         \"Not all parameters were used in the SQL statement\")\n",
      "\u001b[1;31mProgrammingError\u001b[0m: Not all parameters were used in the SQL statement",
      "\nThe above exception was the direct cause of the following exception:\n",
      "\u001b[1;31mDatabaseError\u001b[0m                             Traceback (most recent call last)",
      "\u001b[1;32mC:\\Users\\SHAHRU~1\\AppData\\Local\\Temp/ipykernel_8668/2770271471.py\u001b[0m in \u001b[0;36m<module>\u001b[1;34m\u001b[0m\n\u001b[1;32m----> 1\u001b[1;33m \u001b[0mdata\u001b[0m\u001b[1;33m.\u001b[0m\u001b[0mto_sql\u001b[0m\u001b[1;33m(\u001b[0m\u001b[1;34m\"mydata\"\u001b[0m\u001b[1;33m,\u001b[0m\u001b[0mmydb\u001b[0m\u001b[1;33m)\u001b[0m\u001b[1;33m\u001b[0m\u001b[1;33m\u001b[0m\u001b[0m\n\u001b[0m",
      "\u001b[1;32m~\\anaconda3\\lib\\site-packages\\pandas\\core\\generic.py\u001b[0m in \u001b[0;36mto_sql\u001b[1;34m(self, name, con, schema, if_exists, index, index_label, chunksize, dtype, method)\u001b[0m\n\u001b[0;32m   2870\u001b[0m         \u001b[1;32mfrom\u001b[0m \u001b[0mpandas\u001b[0m\u001b[1;33m.\u001b[0m\u001b[0mio\u001b[0m \u001b[1;32mimport\u001b[0m \u001b[0msql\u001b[0m\u001b[1;33m\u001b[0m\u001b[1;33m\u001b[0m\u001b[0m\n\u001b[0;32m   2871\u001b[0m \u001b[1;33m\u001b[0m\u001b[0m\n\u001b[1;32m-> 2872\u001b[1;33m         sql.to_sql(\n\u001b[0m\u001b[0;32m   2873\u001b[0m             \u001b[0mself\u001b[0m\u001b[1;33m,\u001b[0m\u001b[1;33m\u001b[0m\u001b[1;33m\u001b[0m\u001b[0m\n\u001b[0;32m   2874\u001b[0m             \u001b[0mname\u001b[0m\u001b[1;33m,\u001b[0m\u001b[1;33m\u001b[0m\u001b[1;33m\u001b[0m\u001b[0m\n",
      "\u001b[1;32m~\\anaconda3\\lib\\site-packages\\pandas\\io\\sql.py\u001b[0m in \u001b[0;36mto_sql\u001b[1;34m(frame, name, con, schema, if_exists, index, index_label, chunksize, dtype, method, engine, **engine_kwargs)\u001b[0m\n\u001b[0;32m    715\u001b[0m         )\n\u001b[0;32m    716\u001b[0m \u001b[1;33m\u001b[0m\u001b[0m\n\u001b[1;32m--> 717\u001b[1;33m     pandas_sql.to_sql(\n\u001b[0m\u001b[0;32m    718\u001b[0m         \u001b[0mframe\u001b[0m\u001b[1;33m,\u001b[0m\u001b[1;33m\u001b[0m\u001b[1;33m\u001b[0m\u001b[0m\n\u001b[0;32m    719\u001b[0m         \u001b[0mname\u001b[0m\u001b[1;33m,\u001b[0m\u001b[1;33m\u001b[0m\u001b[1;33m\u001b[0m\u001b[0m\n",
      "\u001b[1;32m~\\anaconda3\\lib\\site-packages\\pandas\\io\\sql.py\u001b[0m in \u001b[0;36mto_sql\u001b[1;34m(self, frame, name, if_exists, index, index_label, schema, chunksize, dtype, method, **kwargs)\u001b[0m\n\u001b[0;32m   2223\u001b[0m             \u001b[0mdtype\u001b[0m\u001b[1;33m=\u001b[0m\u001b[0mdtype\u001b[0m\u001b[1;33m,\u001b[0m\u001b[1;33m\u001b[0m\u001b[1;33m\u001b[0m\u001b[0m\n\u001b[0;32m   2224\u001b[0m         )\n\u001b[1;32m-> 2225\u001b[1;33m         \u001b[0mtable\u001b[0m\u001b[1;33m.\u001b[0m\u001b[0mcreate\u001b[0m\u001b[1;33m(\u001b[0m\u001b[1;33m)\u001b[0m\u001b[1;33m\u001b[0m\u001b[1;33m\u001b[0m\u001b[0m\n\u001b[0m\u001b[0;32m   2226\u001b[0m         \u001b[0mtable\u001b[0m\u001b[1;33m.\u001b[0m\u001b[0minsert\u001b[0m\u001b[1;33m(\u001b[0m\u001b[0mchunksize\u001b[0m\u001b[1;33m,\u001b[0m \u001b[0mmethod\u001b[0m\u001b[1;33m)\u001b[0m\u001b[1;33m\u001b[0m\u001b[1;33m\u001b[0m\u001b[0m\n\u001b[0;32m   2227\u001b[0m \u001b[1;33m\u001b[0m\u001b[0m\n",
      "\u001b[1;32m~\\anaconda3\\lib\\site-packages\\pandas\\io\\sql.py\u001b[0m in \u001b[0;36mcreate\u001b[1;34m(self)\u001b[0m\n\u001b[0;32m    854\u001b[0m \u001b[1;33m\u001b[0m\u001b[0m\n\u001b[0;32m    855\u001b[0m     \u001b[1;32mdef\u001b[0m \u001b[0mcreate\u001b[0m\u001b[1;33m(\u001b[0m\u001b[0mself\u001b[0m\u001b[1;33m)\u001b[0m\u001b[1;33m:\u001b[0m\u001b[1;33m\u001b[0m\u001b[1;33m\u001b[0m\u001b[0m\n\u001b[1;32m--> 856\u001b[1;33m         \u001b[1;32mif\u001b[0m \u001b[0mself\u001b[0m\u001b[1;33m.\u001b[0m\u001b[0mexists\u001b[0m\u001b[1;33m(\u001b[0m\u001b[1;33m)\u001b[0m\u001b[1;33m:\u001b[0m\u001b[1;33m\u001b[0m\u001b[1;33m\u001b[0m\u001b[0m\n\u001b[0m\u001b[0;32m    857\u001b[0m             \u001b[1;32mif\u001b[0m \u001b[0mself\u001b[0m\u001b[1;33m.\u001b[0m\u001b[0mif_exists\u001b[0m \u001b[1;33m==\u001b[0m \u001b[1;34m\"fail\"\u001b[0m\u001b[1;33m:\u001b[0m\u001b[1;33m\u001b[0m\u001b[1;33m\u001b[0m\u001b[0m\n\u001b[0;32m    858\u001b[0m                 \u001b[1;32mraise\u001b[0m \u001b[0mValueError\u001b[0m\u001b[1;33m(\u001b[0m\u001b[1;34mf\"Table '{self.name}' already exists.\"\u001b[0m\u001b[1;33m)\u001b[0m\u001b[1;33m\u001b[0m\u001b[1;33m\u001b[0m\u001b[0m\n",
      "\u001b[1;32m~\\anaconda3\\lib\\site-packages\\pandas\\io\\sql.py\u001b[0m in \u001b[0;36mexists\u001b[1;34m(self)\u001b[0m\n\u001b[0;32m    838\u001b[0m \u001b[1;33m\u001b[0m\u001b[0m\n\u001b[0;32m    839\u001b[0m     \u001b[1;32mdef\u001b[0m \u001b[0mexists\u001b[0m\u001b[1;33m(\u001b[0m\u001b[0mself\u001b[0m\u001b[1;33m)\u001b[0m\u001b[1;33m:\u001b[0m\u001b[1;33m\u001b[0m\u001b[1;33m\u001b[0m\u001b[0m\n\u001b[1;32m--> 840\u001b[1;33m         \u001b[1;32mreturn\u001b[0m \u001b[0mself\u001b[0m\u001b[1;33m.\u001b[0m\u001b[0mpd_sql\u001b[0m\u001b[1;33m.\u001b[0m\u001b[0mhas_table\u001b[0m\u001b[1;33m(\u001b[0m\u001b[0mself\u001b[0m\u001b[1;33m.\u001b[0m\u001b[0mname\u001b[0m\u001b[1;33m,\u001b[0m \u001b[0mself\u001b[0m\u001b[1;33m.\u001b[0m\u001b[0mschema\u001b[0m\u001b[1;33m)\u001b[0m\u001b[1;33m\u001b[0m\u001b[1;33m\u001b[0m\u001b[0m\n\u001b[0m\u001b[0;32m    841\u001b[0m \u001b[1;33m\u001b[0m\u001b[0m\n\u001b[0;32m    842\u001b[0m     \u001b[1;32mdef\u001b[0m \u001b[0msql_schema\u001b[0m\u001b[1;33m(\u001b[0m\u001b[0mself\u001b[0m\u001b[1;33m)\u001b[0m\u001b[1;33m:\u001b[0m\u001b[1;33m\u001b[0m\u001b[1;33m\u001b[0m\u001b[0m\n",
      "\u001b[1;32m~\\anaconda3\\lib\\site-packages\\pandas\\io\\sql.py\u001b[0m in \u001b[0;36mhas_table\u001b[1;34m(self, name, schema)\u001b[0m\n\u001b[0;32m   2234\u001b[0m         \u001b[0mquery\u001b[0m \u001b[1;33m=\u001b[0m \u001b[1;34mf\"SELECT name FROM sqlite_master WHERE type='table' AND name={wld};\"\u001b[0m\u001b[1;33m\u001b[0m\u001b[1;33m\u001b[0m\u001b[0m\n\u001b[0;32m   2235\u001b[0m \u001b[1;33m\u001b[0m\u001b[0m\n\u001b[1;32m-> 2236\u001b[1;33m         \u001b[1;32mreturn\u001b[0m \u001b[0mlen\u001b[0m\u001b[1;33m(\u001b[0m\u001b[0mself\u001b[0m\u001b[1;33m.\u001b[0m\u001b[0mexecute\u001b[0m\u001b[1;33m(\u001b[0m\u001b[0mquery\u001b[0m\u001b[1;33m,\u001b[0m \u001b[1;33m[\u001b[0m\u001b[0mname\u001b[0m\u001b[1;33m]\u001b[0m\u001b[1;33m)\u001b[0m\u001b[1;33m.\u001b[0m\u001b[0mfetchall\u001b[0m\u001b[1;33m(\u001b[0m\u001b[1;33m)\u001b[0m\u001b[1;33m)\u001b[0m \u001b[1;33m>\u001b[0m \u001b[1;36m0\u001b[0m\u001b[1;33m\u001b[0m\u001b[1;33m\u001b[0m\u001b[0m\n\u001b[0m\u001b[0;32m   2237\u001b[0m \u001b[1;33m\u001b[0m\u001b[0m\n\u001b[0;32m   2238\u001b[0m     \u001b[1;32mdef\u001b[0m \u001b[0mget_table\u001b[0m\u001b[1;33m(\u001b[0m\u001b[0mself\u001b[0m\u001b[1;33m,\u001b[0m \u001b[0mtable_name\u001b[0m\u001b[1;33m:\u001b[0m \u001b[0mstr\u001b[0m\u001b[1;33m,\u001b[0m \u001b[0mschema\u001b[0m\u001b[1;33m:\u001b[0m \u001b[0mstr\u001b[0m \u001b[1;33m|\u001b[0m \u001b[1;32mNone\u001b[0m \u001b[1;33m=\u001b[0m \u001b[1;32mNone\u001b[0m\u001b[1;33m)\u001b[0m\u001b[1;33m:\u001b[0m\u001b[1;33m\u001b[0m\u001b[1;33m\u001b[0m\u001b[0m\n",
      "\u001b[1;32m~\\anaconda3\\lib\\site-packages\\pandas\\io\\sql.py\u001b[0m in \u001b[0;36mexecute\u001b[1;34m(self, *args, **kwargs)\u001b[0m\n\u001b[0;32m   2066\u001b[0m \u001b[1;33m\u001b[0m\u001b[0m\n\u001b[0;32m   2067\u001b[0m             \u001b[0mex\u001b[0m \u001b[1;33m=\u001b[0m \u001b[0mDatabaseError\u001b[0m\u001b[1;33m(\u001b[0m\u001b[1;34mf\"Execution failed on sql '{args[0]}': {exc}\"\u001b[0m\u001b[1;33m)\u001b[0m\u001b[1;33m\u001b[0m\u001b[1;33m\u001b[0m\u001b[0m\n\u001b[1;32m-> 2068\u001b[1;33m             \u001b[1;32mraise\u001b[0m \u001b[0mex\u001b[0m \u001b[1;32mfrom\u001b[0m \u001b[0mexc\u001b[0m\u001b[1;33m\u001b[0m\u001b[1;33m\u001b[0m\u001b[0m\n\u001b[0m\u001b[0;32m   2069\u001b[0m \u001b[1;33m\u001b[0m\u001b[0m\n\u001b[0;32m   2070\u001b[0m     \u001b[1;33m@\u001b[0m\u001b[0mstaticmethod\u001b[0m\u001b[1;33m\u001b[0m\u001b[1;33m\u001b[0m\u001b[0m\n",
      "\u001b[1;31mDatabaseError\u001b[0m: Execution failed on sql 'SELECT name FROM sqlite_master WHERE type='table' AND name=?;': Not all parameters were used in the SQL statement"
     ]
    }
   ],
   "source": [
    "data.to_sql(\"mydata\",mydb)"
   ]
  },
  {
   "cell_type": "code",
   "execution_count": null,
   "id": "bf20e0e0",
   "metadata": {},
   "outputs": [],
   "source": [
    "import mysql.connector as connection\n",
    "import pandas as pd\n",
    "import  csv\n",
    "\n",
    "try:\n",
    "    mydb = connection.connect(host= \"localhost\", user = \"root\",passwd =\"srk123\",use_pure= True)\n",
    "    #check if the connection is established\n",
    "    print(mydb.is_connected())\n",
    "    #create a new database\n",
    "    query = \"create database hotelData;\"\n",
    "    cursor = mydb.cursor() #create a cursor to execute queries\n",
    "    cursor.execute(query)\n",
    "    print(\"Database created!!\")\n",
    "    mydb.close() #close the connection\n",
    "    \n",
    "    #established a new connection to the database created above\n",
    "      mydb = connection.connect(host= \"localhost\",database = \"hotelData\", user = \"root\",passwd =\"srk123\",use_pure= True)\n",
    "    # create a new table to store hotel data\n",
    "    query = \"CREATE TABLE IF NOT EXISTS hotelData(index_Number int(20),Ri float(10,5), Mg float(10,5),Na float(20),A1 float(10,5),\"\\\"(\n",
    "            \"Si float (10,5), K float(10,5), ca float(10,5),ba float(10,5) fe float(10,5),class int(5))\")\n",
    "    cursor = mydb.cursor() # creat a cursor to execute quaries\n",
    "    cursor.execute(query)\n",
    "    print(\"Table created!!\")\n",
    "    \n",
    "    #read from the file\n",
    "    with open(\"hotel.Data\",\"r\") as f:\n",
    "        next (f)\n",
    "        hotel_Data = csv.reader(f, delimiter=\"\\n\")\n",
    "        for line in enumerate(hotel_Data):\n",
    "            for list_ in (line[1]):\n",
    "                curser.execute(\"INSERT INTO hotelData values ({values})\".format(values = (list_)))\n",
    "    print(\"values inserted!!\")\n",
    "    mydb.commit()\n",
    "    cursor.close()\n",
    "    mydb.close()\n",
    "    \n",
    "except Exception as e:\n",
    "    #mydb.close()\n",
    "    print(str(e))\n",
    "        "
   ]
  },
  {
   "cell_type": "code",
   "execution_count": 5,
   "id": "889a85d4",
   "metadata": {},
   "outputs": [],
   "source": [
    "import mysql.connector as connection\n",
    "import pandas as pandas\n",
    "import  csv\n",
    "    #check if the connection is established\n",
    "mydb = connection.connect(host= \"localhost\", user = \"root\",passwd =\"srk123\",use_pure= True)\n"
   ]
  },
  {
   "cell_type": "code",
   "execution_count": 6,
   "id": "8a61ae0e",
   "metadata": {},
   "outputs": [],
   "source": [
    "cur = mydb.cursor()\n",
    "cur.execute(\"CREATE TABLE IF NOT EXISTS LIC.hotelData (index_Number INT(10),RI float(10,5), Mg float(10,5),Na float(10,5),A1 float(10,5),\"\\\n",
    "            \"Si float (10,5), K float(10,5), Ca float(10,5),Ba float(10,5) ,Fe float(10,5),Class INT(5))\")\n",
    "            \n"
   ]
  },
  {
   "cell_type": "code",
   "execution_count": 36,
   "id": "7d1acb31",
   "metadata": {},
   "outputs": [
    {
     "data": {
      "text/plain": [
       "'C:\\\\Users\\\\shahrukh khan'"
      ]
     },
     "execution_count": 36,
     "metadata": {},
     "output_type": "execute_result"
    }
   ],
   "source": [
    "pwd"
   ]
  },
  {
   "cell_type": "code",
   "execution_count": 69,
   "id": "b0169d09",
   "metadata": {},
   "outputs": [
    {
     "name": "stdout",
     "output_type": "stream",
     "text": [
      "<_csv.reader object at 0x000002015F797E20>\n",
      "(0, ['1,1.52101,13.64,4.39,1.10,71.77,0.65,8.75,0.00,0.00,1'])\n",
      "all the data inserted\n",
      "(1, ['2,1.52501,23.64,5.39,2.10,78.77,1.65,8.76,0.06,0.00,1'])\n",
      "all the data inserted\n",
      "(2, ['3,1.52601,23.64,5.39,2.10,78.77,1.65,8.76,0.03,0.00,1'])\n",
      "all the data inserted\n",
      "(3, ['4,1.52601,23.64,5.39,2.10,78.77,1.65,8.76,0.09,0.00,1'])\n",
      "all the data inserted\n",
      "(4, ['5,1.52581,23.64,5.39,2.10,78.77,1.65,8.76,0.04,0.00,1'])\n",
      "all the data inserted\n",
      "(5, ['6,1.52591,23.64,5.39,2.10,78.77,1.65,8.76,0.07,0.00,1'])\n",
      "all the data inserted\n",
      "(6, ['7,1.55501,23.64,5.39,2.10,78.77,1.65,8.76,0.02,0.00,1'])\n",
      "all the data inserted\n",
      "(7, ['8,1.82501,23.64,5.39,2.10,78.77,1.65,8.76,0.06,0.00,1'])\n",
      "all the data inserted\n",
      "(8, ['9,1.92501,23.64,5.39,2.10,78.77,1.65,8.76,0.01,0.00,1'])\n",
      "all the data inserted\n",
      "(9, ['10,1.52501,23.64,5.39,2.10,78.77,1.65,8.76,0.85,0.00,1'])\n",
      "all the data inserted\n",
      "(10, ['11,1.54501,23.64,5.39,2.10,78.77,1.65,8.76,0.65,0.00,1'])\n",
      "all the data inserted\n",
      "(11, ['12,1.56501,23.64,5.39,2.10,78.77,1.65,8.76,0.95,0.00,1'])\n",
      "all the data inserted\n",
      "(12, ['13,1.58501,23.64,5.39,2.10,78.77,1.65,8.76,0.45,0.00,1'])\n",
      "all the data inserted\n",
      "(13, ['14,1.57501,23.64,5.39,2.10,78.77,1.65,8.76,0.55,0.00,1'])\n",
      "all the data inserted\n",
      "(14, ['15,1.59501,23.64,5.39,2.10,78.77,1.65,8.76,0.35,0.00,1'])\n",
      "all the data inserted\n",
      "(15, ['16,1.53501,23.64,5.39,2.10,78.77,1.65,8.76,0.65,0.00,1'])\n",
      "all the data inserted\n",
      "(16, ['17,1.52501,23.64,5.39,2.10,78.77,1.65,8.76,0.95,0.00,1'])\n",
      "all the data inserted\n",
      "(17, ['18,1.52501,23.64,5.39,2.10,78.77,1.65,8.76,0.75,0.00,1 '])\n",
      "all the data inserted\n",
      "(18, ['19,1.52601,23.64,5.39,2.10,78.77,1.65,8.76,0.55,0.00,1 '])\n",
      "all the data inserted\n",
      "(19, ['20,1.52520,23.64,5.39,2.10,78.77,1.65,8.76,0.45,0.00,1  '])\n",
      "all the data inserted\n",
      "(20, ['21,1.52541,23.64,5.39,2.10,78.77,1.65,8.76,0.65,0.00,1 '])\n",
      "all the data inserted\n",
      "(21, ['22,1.52541,23.64,5.39,2.10,78.77,1.65,8.76,0.15,0.00,1 '])\n",
      "all the data inserted\n",
      "(22, ['23,1.52501,23.64,5.39,2.10,78.77,1.65,8.76,0.02,0.00,1      '])\n",
      "all the data inserted\n",
      "(23, ['24,1.52601,23.64,5.39,2.10,78.77,1.65,8.76,0.05,0.00,1      '])\n",
      "all the data inserted\n",
      "(24, ['25,1.52601,23.64,5.39,2.10,78.77,1.65,8.76,0.05,0.00,1      '])\n",
      "all the data inserted\n",
      "(25, ['26,1.52581,23.64,5.39,2.10,78.77,1.65,8.76,0.05,0.00,1      '])\n",
      "all the data inserted\n",
      "(26, ['27,1.52591,23.64,5.39,2.10,78.77,1.65,8.76,0.05,0.00,1      '])\n",
      "all the data inserted\n",
      "(27, ['28,1.55501,23.64,5.39,2.10,78.77,1.65,8.76,0.05,0.00,1      '])\n",
      "all the data inserted\n",
      "(28, ['29,1.82501,23.64,5.39,2.10,78.77,1.65,8.76,0.05,0.00,1      '])\n",
      "all the data inserted\n",
      "(29, ['30,1.92501,23.64,5.39,2.10,78.77,1.65,8.76,0.05,0.00,1      '])\n",
      "all the data inserted\n",
      "(30, ['31,1.52501,23.64,5.39,2.10,78.77,1.65,8.76,0.05,0.00,1'])\n",
      "all the data inserted\n",
      "(31, ['32,1.54501,23.64,5.39,2.10,78.77,1.65,8.76,0.05,0.00,1 '])\n",
      "all the data inserted\n",
      "(32, ['33,1.56501,23.64,5.39,2.10,78.77,1.65,8.76,0.05,0.00,1 '])\n",
      "all the data inserted\n",
      "(33, ['34,1.58501,23.64,5.39,2.10,78.77,1.65,8.76,0.05,0.00,1 '])\n",
      "all the data inserted\n",
      "(34, ['35,1.57501,23.64,5.39,2.10,78.77,1.65,8.76,0.05,0.00,1 '])\n",
      "all the data inserted\n",
      "(35, ['36,1.59501,23.64,5.39,2.10,78.77,1.65,8.76,0.05,0.00,1 '])\n",
      "all the data inserted\n",
      "(36, ['37,1.53501,23.64,5.39,2.10,78.77,1.65,8.76,0.05,0.00,1 '])\n",
      "all the data inserted\n",
      "(37, ['38,1.52501,23.64,5.39,2.10,78.77,1.65,8.76,0.05,0.00,1 '])\n",
      "all the data inserted\n",
      "(38, ['39,1.52501,23.64,5.39,2.10,78.77,1.65,8.76,0.05,0.00,1 '])\n",
      "all the data inserted\n",
      "(39, ['40,1.52601,23.64,5.39,2.10,78.77,1.65,8.76,0.05,0.00,1 '])\n",
      "all the data inserted\n",
      "(40, ['41,1.52521,23.64,5.39,2.10,78.77,1.65,8.76,0.05,0.00,1  '])\n",
      "all the data inserted\n",
      "(41, ['42,1.52541,23.64,5.39,2.10,78.77,1.65,8.76,0.05,0.00,1 '])\n",
      "all the data inserted\n",
      "(42, ['43,1.52541,23.64,5.39,2.10,78.77,1.65,8.76,0.05,0.00,1  '])\n",
      "all the data inserted\n"
     ]
    }
   ],
   "source": [
    "with open ('hotel.data',\"r\") as data:\n",
    "    next(data)\n",
    "    data_csv = csv.reader(data, delimiter= \"\\n\")\n",
    "    print(data_csv)\n",
    "    for i in enumerate (data_csv):\n",
    "        print(i)\n",
    "        for j in i[1]:\n",
    "            cur.execute('insert into LIC.hotelData values({data})'.format(data=(j)))\n",
    "\n",
    "        print(\"all the data inserted\")\n",
    "mydb.commit()\n",
    "        "
   ]
  },
  {
   "cell_type": "code",
   "execution_count": 81,
   "id": "3f1e6ed3",
   "metadata": {},
   "outputs": [
    {
     "name": "stdout",
     "output_type": "stream",
     "text": [
      "<_csv.reader object at 0x000002015F7EEA00>\n",
      "<class 'list'>\n",
      "<class 'list'>\n",
      "<class 'list'>\n",
      "<class 'list'>\n",
      "<class 'list'>\n",
      "<class 'list'>\n",
      "<class 'list'>\n",
      "<class 'list'>\n",
      "<class 'list'>\n",
      "<class 'list'>\n",
      "<class 'list'>\n",
      "<class 'list'>\n",
      "<class 'list'>\n",
      "<class 'list'>\n",
      "<class 'list'>\n",
      "<class 'list'>\n",
      "<class 'list'>\n",
      "<class 'list'>\n",
      "<class 'list'>\n",
      "<class 'list'>\n",
      "<class 'list'>\n",
      "<class 'list'>\n",
      "<class 'list'>\n",
      "<class 'list'>\n",
      "<class 'list'>\n",
      "<class 'list'>\n",
      "<class 'list'>\n",
      "<class 'list'>\n",
      "<class 'list'>\n",
      "<class 'list'>\n",
      "<class 'list'>\n",
      "<class 'list'>\n",
      "<class 'list'>\n",
      "<class 'list'>\n",
      "<class 'list'>\n",
      "<class 'list'>\n",
      "<class 'list'>\n",
      "<class 'list'>\n",
      "<class 'list'>\n",
      "<class 'list'>\n",
      "<class 'list'>\n",
      "<class 'list'>\n",
      "<class 'list'>\n",
      "all the data inserted\n"
     ]
    }
   ],
   "source": [
    "with open ('hotel.data',\"r\") as data:\n",
    "    next(data)\n",
    "    data_csv = csv.reader(data, delimiter= \"\\n\")\n",
    "    print(data_csv)\n",
    "    for j in data_csv:\n",
    "            #cur.execute('insert into LIC.hotelData values({data})'.format(data=(j)))\n",
    "             print(type(j))\n",
    "    print(\"all the data inserted\")\n",
    "mydb.commit()"
   ]
  },
  {
   "cell_type": "code",
   "execution_count": 83,
   "id": "9a190e32",
   "metadata": {},
   "outputs": [
    {
     "name": "stdout",
     "output_type": "stream",
     "text": [
      "<_csv.reader object at 0x000002015F797E20>\n",
      "(0, ['1,1.52101,13.64,4.39,1.10,71.77,0.65,8.75,0.00,0.00,1'])\n",
      "<class 'str'>\n",
      "all the data inserted\n",
      "(1, ['2,1.52501,23.64,5.39,2.10,78.77,1.65,8.76,0.06,0.00,1'])\n",
      "<class 'str'>\n",
      "all the data inserted\n",
      "(2, ['3,1.52601,23.64,5.39,2.10,78.77,1.65,8.76,0.03,0.00,1'])\n",
      "<class 'str'>\n",
      "all the data inserted\n",
      "(3, ['4,1.52601,23.64,5.39,2.10,78.77,1.65,8.76,0.09,0.00,1'])\n",
      "<class 'str'>\n",
      "all the data inserted\n",
      "(4, ['5,1.52581,23.64,5.39,2.10,78.77,1.65,8.76,0.04,0.00,1'])\n",
      "<class 'str'>\n",
      "all the data inserted\n",
      "(5, ['6,1.52591,23.64,5.39,2.10,78.77,1.65,8.76,0.07,0.00,1'])\n",
      "<class 'str'>\n",
      "all the data inserted\n",
      "(6, ['7,1.55501,23.64,5.39,2.10,78.77,1.65,8.76,0.02,0.00,1'])\n",
      "<class 'str'>\n",
      "all the data inserted\n",
      "(7, ['8,1.82501,23.64,5.39,2.10,78.77,1.65,8.76,0.06,0.00,1'])\n",
      "<class 'str'>\n",
      "all the data inserted\n",
      "(8, ['9,1.92501,23.64,5.39,2.10,78.77,1.65,8.76,0.01,0.00,1'])\n",
      "<class 'str'>\n",
      "all the data inserted\n",
      "(9, ['10,1.52501,23.64,5.39,2.10,78.77,1.65,8.76,0.85,0.00,1'])\n",
      "<class 'str'>\n",
      "all the data inserted\n",
      "(10, ['11,1.54501,23.64,5.39,2.10,78.77,1.65,8.76,0.65,0.00,1'])\n",
      "<class 'str'>\n",
      "all the data inserted\n",
      "(11, ['12,1.56501,23.64,5.39,2.10,78.77,1.65,8.76,0.95,0.00,1'])\n",
      "<class 'str'>\n",
      "all the data inserted\n",
      "(12, ['13,1.58501,23.64,5.39,2.10,78.77,1.65,8.76,0.45,0.00,1'])\n",
      "<class 'str'>\n",
      "all the data inserted\n",
      "(13, ['14,1.57501,23.64,5.39,2.10,78.77,1.65,8.76,0.55,0.00,1'])\n",
      "<class 'str'>\n",
      "all the data inserted\n",
      "(14, ['15,1.59501,23.64,5.39,2.10,78.77,1.65,8.76,0.35,0.00,1'])\n",
      "<class 'str'>\n",
      "all the data inserted\n",
      "(15, ['16,1.53501,23.64,5.39,2.10,78.77,1.65,8.76,0.65,0.00,1'])\n",
      "<class 'str'>\n",
      "all the data inserted\n",
      "(16, ['17,1.52501,23.64,5.39,2.10,78.77,1.65,8.76,0.95,0.00,1'])\n",
      "<class 'str'>\n",
      "all the data inserted\n",
      "(17, ['18,1.52501,23.64,5.39,2.10,78.77,1.65,8.76,0.75,0.00,1 '])\n",
      "<class 'str'>\n",
      "all the data inserted\n",
      "(18, ['19,1.52601,23.64,5.39,2.10,78.77,1.65,8.76,0.55,0.00,1 '])\n",
      "<class 'str'>\n",
      "all the data inserted\n",
      "(19, ['20,1.52520,23.64,5.39,2.10,78.77,1.65,8.76,0.45,0.00,1  '])\n",
      "<class 'str'>\n",
      "all the data inserted\n",
      "(20, ['21,1.52541,23.64,5.39,2.10,78.77,1.65,8.76,0.65,0.00,1 '])\n",
      "<class 'str'>\n",
      "all the data inserted\n",
      "(21, ['22,1.52541,23.64,5.39,2.10,78.77,1.65,8.76,0.15,0.00,1 '])\n",
      "<class 'str'>\n",
      "all the data inserted\n",
      "(22, ['23,1.52501,23.64,5.39,2.10,78.77,1.65,8.76,0.02,0.00,1      '])\n",
      "<class 'str'>\n",
      "all the data inserted\n",
      "(23, ['24,1.52601,23.64,5.39,2.10,78.77,1.65,8.76,0.05,0.00,1      '])\n",
      "<class 'str'>\n",
      "all the data inserted\n",
      "(24, ['25,1.52601,23.64,5.39,2.10,78.77,1.65,8.76,0.05,0.00,1      '])\n",
      "<class 'str'>\n",
      "all the data inserted\n",
      "(25, ['26,1.52581,23.64,5.39,2.10,78.77,1.65,8.76,0.05,0.00,1      '])\n",
      "<class 'str'>\n",
      "all the data inserted\n",
      "(26, ['27,1.52591,23.64,5.39,2.10,78.77,1.65,8.76,0.05,0.00,1      '])\n",
      "<class 'str'>\n",
      "all the data inserted\n",
      "(27, ['28,1.55501,23.64,5.39,2.10,78.77,1.65,8.76,0.05,0.00,1      '])\n",
      "<class 'str'>\n",
      "all the data inserted\n",
      "(28, ['29,1.82501,23.64,5.39,2.10,78.77,1.65,8.76,0.05,0.00,1      '])\n",
      "<class 'str'>\n",
      "all the data inserted\n",
      "(29, ['30,1.92501,23.64,5.39,2.10,78.77,1.65,8.76,0.05,0.00,1      '])\n",
      "<class 'str'>\n",
      "all the data inserted\n",
      "(30, ['31,1.52501,23.64,5.39,2.10,78.77,1.65,8.76,0.05,0.00,1'])\n",
      "<class 'str'>\n",
      "all the data inserted\n",
      "(31, ['32,1.54501,23.64,5.39,2.10,78.77,1.65,8.76,0.05,0.00,1 '])\n",
      "<class 'str'>\n",
      "all the data inserted\n",
      "(32, ['33,1.56501,23.64,5.39,2.10,78.77,1.65,8.76,0.05,0.00,1 '])\n",
      "<class 'str'>\n",
      "all the data inserted\n",
      "(33, ['34,1.58501,23.64,5.39,2.10,78.77,1.65,8.76,0.05,0.00,1 '])\n",
      "<class 'str'>\n",
      "all the data inserted\n",
      "(34, ['35,1.57501,23.64,5.39,2.10,78.77,1.65,8.76,0.05,0.00,1 '])\n",
      "<class 'str'>\n",
      "all the data inserted\n",
      "(35, ['36,1.59501,23.64,5.39,2.10,78.77,1.65,8.76,0.05,0.00,1 '])\n",
      "<class 'str'>\n",
      "all the data inserted\n",
      "(36, ['37,1.53501,23.64,5.39,2.10,78.77,1.65,8.76,0.05,0.00,1 '])\n",
      "<class 'str'>\n",
      "all the data inserted\n",
      "(37, ['38,1.52501,23.64,5.39,2.10,78.77,1.65,8.76,0.05,0.00,1 '])\n",
      "<class 'str'>\n",
      "all the data inserted\n",
      "(38, ['39,1.52501,23.64,5.39,2.10,78.77,1.65,8.76,0.05,0.00,1 '])\n",
      "<class 'str'>\n",
      "all the data inserted\n",
      "(39, ['40,1.52601,23.64,5.39,2.10,78.77,1.65,8.76,0.05,0.00,1 '])\n",
      "<class 'str'>\n",
      "all the data inserted\n",
      "(40, ['41,1.52521,23.64,5.39,2.10,78.77,1.65,8.76,0.05,0.00,1  '])\n",
      "<class 'str'>\n",
      "all the data inserted\n",
      "(41, ['42,1.52541,23.64,5.39,2.10,78.77,1.65,8.76,0.05,0.00,1 '])\n",
      "<class 'str'>\n",
      "all the data inserted\n",
      "(42, ['43,1.52541,23.64,5.39,2.10,78.77,1.65,8.76,0.05,0.00,1  '])\n",
      "<class 'str'>\n",
      "all the data inserted\n"
     ]
    }
   ],
   "source": [
    "with open ('hotel.data',\"r\") as data:\n",
    "    next(data)\n",
    "    data_csv = csv.reader(data, delimiter= \"\\n\")\n",
    "    print(data_csv)\n",
    "    for i in enumerate (data_csv):\n",
    "        print(i)\n",
    "        for j in i[1]:\n",
    "            print(type(j)) \n",
    "            cur.execute('insert into LIC.hotelData values({data})'.format(data=(j)))\n",
    "\n",
    "        print(\"all the data inserted\")\n",
    "mydb.commit()\n",
    "        "
   ]
  },
  {
   "cell_type": "code",
   "execution_count": 92,
   "id": "485cde20",
   "metadata": {},
   "outputs": [
    {
     "name": "stdout",
     "output_type": "stream",
     "text": [
      "<_csv.reader object at 0x000002015F838DC0>\n",
      "<class 'str'>\n",
      "['1,1.52101,13.64,4.39,1.10,71.77,0.65,8.75,0.00,0.00,1']\n",
      "<class 'str'>\n",
      "['2,1.52501,23.64,5.39,2.10,78.77,1.65,8.76,0.06,0.00,1']\n",
      "<class 'str'>\n",
      "['3,1.52601,23.64,5.39,2.10,78.77,1.65,8.76,0.03,0.00,1']\n",
      "<class 'str'>\n",
      "['4,1.52601,23.64,5.39,2.10,78.77,1.65,8.76,0.09,0.00,1']\n",
      "<class 'str'>\n",
      "['5,1.52581,23.64,5.39,2.10,78.77,1.65,8.76,0.04,0.00,1']\n",
      "<class 'str'>\n",
      "['6,1.52591,23.64,5.39,2.10,78.77,1.65,8.76,0.07,0.00,1']\n",
      "<class 'str'>\n",
      "['7,1.55501,23.64,5.39,2.10,78.77,1.65,8.76,0.02,0.00,1']\n",
      "<class 'str'>\n",
      "['8,1.82501,23.64,5.39,2.10,78.77,1.65,8.76,0.06,0.00,1']\n",
      "<class 'str'>\n",
      "['9,1.92501,23.64,5.39,2.10,78.77,1.65,8.76,0.01,0.00,1']\n",
      "<class 'str'>\n",
      "['10,1.52501,23.64,5.39,2.10,78.77,1.65,8.76,0.85,0.00,1']\n",
      "<class 'str'>\n",
      "['11,1.54501,23.64,5.39,2.10,78.77,1.65,8.76,0.65,0.00,1']\n",
      "<class 'str'>\n",
      "['12,1.56501,23.64,5.39,2.10,78.77,1.65,8.76,0.95,0.00,1']\n",
      "<class 'str'>\n",
      "['13,1.58501,23.64,5.39,2.10,78.77,1.65,8.76,0.45,0.00,1']\n",
      "<class 'str'>\n",
      "['14,1.57501,23.64,5.39,2.10,78.77,1.65,8.76,0.55,0.00,1']\n",
      "<class 'str'>\n",
      "['15,1.59501,23.64,5.39,2.10,78.77,1.65,8.76,0.35,0.00,1']\n",
      "<class 'str'>\n",
      "['16,1.53501,23.64,5.39,2.10,78.77,1.65,8.76,0.65,0.00,1']\n",
      "<class 'str'>\n",
      "['17,1.52501,23.64,5.39,2.10,78.77,1.65,8.76,0.95,0.00,1']\n",
      "<class 'str'>\n",
      "['18,1.52501,23.64,5.39,2.10,78.77,1.65,8.76,0.75,0.00,1 ']\n",
      "<class 'str'>\n",
      "['19,1.52601,23.64,5.39,2.10,78.77,1.65,8.76,0.55,0.00,1 ']\n",
      "<class 'str'>\n",
      "['20,1.52520,23.64,5.39,2.10,78.77,1.65,8.76,0.45,0.00,1  ']\n",
      "<class 'str'>\n",
      "['21,1.52541,23.64,5.39,2.10,78.77,1.65,8.76,0.65,0.00,1 ']\n",
      "<class 'str'>\n",
      "['22,1.52541,23.64,5.39,2.10,78.77,1.65,8.76,0.15,0.00,1 ']\n",
      "<class 'str'>\n",
      "['23,1.52501,23.64,5.39,2.10,78.77,1.65,8.76,0.02,0.00,1      ']\n",
      "<class 'str'>\n",
      "['24,1.52601,23.64,5.39,2.10,78.77,1.65,8.76,0.05,0.00,1      ']\n",
      "<class 'str'>\n",
      "['25,1.52601,23.64,5.39,2.10,78.77,1.65,8.76,0.05,0.00,1      ']\n",
      "<class 'str'>\n",
      "['26,1.52581,23.64,5.39,2.10,78.77,1.65,8.76,0.05,0.00,1      ']\n",
      "<class 'str'>\n",
      "['27,1.52591,23.64,5.39,2.10,78.77,1.65,8.76,0.05,0.00,1      ']\n",
      "<class 'str'>\n",
      "['28,1.55501,23.64,5.39,2.10,78.77,1.65,8.76,0.05,0.00,1      ']\n",
      "<class 'str'>\n",
      "['29,1.82501,23.64,5.39,2.10,78.77,1.65,8.76,0.05,0.00,1      ']\n",
      "<class 'str'>\n",
      "['30,1.92501,23.64,5.39,2.10,78.77,1.65,8.76,0.05,0.00,1      ']\n",
      "<class 'str'>\n",
      "['31,1.52501,23.64,5.39,2.10,78.77,1.65,8.76,0.05,0.00,1']\n",
      "<class 'str'>\n",
      "['32,1.54501,23.64,5.39,2.10,78.77,1.65,8.76,0.05,0.00,1 ']\n",
      "<class 'str'>\n",
      "['33,1.56501,23.64,5.39,2.10,78.77,1.65,8.76,0.05,0.00,1 ']\n",
      "<class 'str'>\n",
      "['34,1.58501,23.64,5.39,2.10,78.77,1.65,8.76,0.05,0.00,1 ']\n",
      "<class 'str'>\n",
      "['35,1.57501,23.64,5.39,2.10,78.77,1.65,8.76,0.05,0.00,1 ']\n",
      "<class 'str'>\n",
      "['36,1.59501,23.64,5.39,2.10,78.77,1.65,8.76,0.05,0.00,1 ']\n",
      "<class 'str'>\n",
      "['37,1.53501,23.64,5.39,2.10,78.77,1.65,8.76,0.05,0.00,1 ']\n",
      "<class 'str'>\n",
      "['38,1.52501,23.64,5.39,2.10,78.77,1.65,8.76,0.05,0.00,1 ']\n",
      "<class 'str'>\n",
      "['39,1.52501,23.64,5.39,2.10,78.77,1.65,8.76,0.05,0.00,1 ']\n",
      "<class 'str'>\n",
      "['40,1.52601,23.64,5.39,2.10,78.77,1.65,8.76,0.05,0.00,1 ']\n",
      "<class 'str'>\n",
      "['41,1.52521,23.64,5.39,2.10,78.77,1.65,8.76,0.05,0.00,1  ']\n",
      "<class 'str'>\n",
      "['42,1.52541,23.64,5.39,2.10,78.77,1.65,8.76,0.05,0.00,1 ']\n",
      "<class 'str'>\n",
      "['43,1.52541,23.64,5.39,2.10,78.77,1.65,8.76,0.05,0.00,1  ']\n",
      "all the data inserted\n"
     ]
    }
   ],
   "source": [
    "with open ('hotel.data',\"r\") as data:\n",
    "    next(data)\n",
    "    data_csv = csv.reader(data, delimiter= \"\\n\")\n",
    "    print(data_csv)\n",
    "    for j in data_csv:\n",
    "        print(type(str(j)))\n",
    "        print(j)\n",
    "        cur.execute('insert into LIC.hotelData values({data})'.format(data=(str(j[0]))))\n",
    "        #print(type(sttr(j)))\n",
    "    print(\"all the data inserted\")\n",
    "mydb.commit()"
   ]
  },
  {
   "cell_type": "code",
   "execution_count": null,
   "id": "6ed64939",
   "metadata": {},
   "outputs": [],
   "source": []
  },
  {
   "cell_type": "code",
   "execution_count": 43,
   "id": "94210a1a",
   "metadata": {},
   "outputs": [
    {
     "name": "stderr",
     "output_type": "stream",
     "text": [
      "'ls' is not recognized as an internal or external command,\n",
      "operable program or batch file.\n"
     ]
    }
   ],
   "source": [
    "!ls"
   ]
  },
  {
   "cell_type": "code",
   "execution_count": null,
   "id": "975aa461",
   "metadata": {},
   "outputs": [],
   "source": [
    "with open (C:\\Users\\shahrukh khan)"
   ]
  },
  {
   "cell_type": "code",
   "execution_count": null,
   "id": "28c100bc",
   "metadata": {},
   "outputs": [],
   "source": [
    "https://archive-beta.ics.uci.edu/ml/datasets/breast+cancer+wisconsin+diagnostic"
   ]
  },
  {
   "cell_type": "code",
   "execution_count": null,
   "id": "24652bea",
   "metadata": {},
   "outputs": [],
   "source": [
    "https://archive.ics.uci.edu/ml/datasets/Breast+Cancer+Wisconsin+%28Diagnostic%29"
   ]
  },
  {
   "cell_type": "code",
   "execution_count": null,
   "id": "2995cec7",
   "metadata": {},
   "outputs": [],
   "source": [
    "https://archive-beta.ics.uci.edu/ml/datasets/breast+cancer+wisconsin+diagnostic"
   ]
  },
  {
   "cell_type": "code",
   "execution_count": null,
   "id": "9e95cdf7",
   "metadata": {},
   "outputs": [],
   "source": [
    "https://archive.ics.uci.edu/ml/datasets/Car+Evaluation"
   ]
  },
  {
   "cell_type": "code",
   "execution_count": null,
   "id": "4a64298c",
   "metadata": {},
   "outputs": [],
   "source": [
    "https://archive.ics.uci.edu/ml/datasets/Bank+Marketing"
   ]
  },
  {
   "cell_type": "code",
   "execution_count": null,
   "id": "1672c288",
   "metadata": {},
   "outputs": [],
   "source": []
  },
  {
   "cell_type": "code",
   "execution_count": null,
   "id": "e4b8ee6e",
   "metadata": {},
   "outputs": [],
   "source": [
    "import mysql.connector as connection\n",
    "import pandas as pd\n",
    "import  csv\n",
    "\n",
    "try:\n",
    "    mydb = connection.connect(host= \"localhost\", user = \"root\",passwd =\"srk123\",use_pure= True)\n",
    "    #check if the connection is established\n",
    "    print(mydb.is_connected())\n",
    "    #create a new database\n",
    "    query = \"create database hotelData;\"\n",
    "    cursor = mydb.cursor() #create a cursor to execute queries\n",
    "    cursor.execute(query)\n",
    "    print(\"Database created!!\")\n",
    "    mydb.close() #close the connection\n",
    "    \n",
    "    #established a new connection to the database created above\n",
    "      mydb = connection.connect(host= \"localhost\",database = \"hotelData\", user = \"root\",passwd =\"srk123\",use_pure= True)\n",
    "    # create a new table to store hotel data\n",
    "    query = \"CREATE TABLE IF NOT EXISTS hotelData(index_Number int(20),Ri float(10,5), Mg float(10,5),Na float(20),A1 float(10,5),\"\\\"(\n",
    "            \"Si float (10,5), K float(10,5), ca float(10,5),ba float(10,5) fe float(10,5),class int(5))\")\n",
    "    cursor = mydb.cursor() # creat a cursor to execute quaries\n",
    "    cursor.execute(query)\n",
    "    print(\"Table created!!\")\n",
    "    \n",
    "    #read from the file\n",
    "    with open(\"hotel.Data\",\"r\") as f:\n",
    "        next (f)\n",
    "        hotel_Data = csv.reader(f, delimiter=\"\\n\")\n",
    "        for line in enumerate(hotel_Data):\n",
    "            for list_ in (line[1]):\n",
    "                curser.execute(\"INSERT INTO hotelData values ({values})\".format(values = (list_)))\n",
    "    print(\"values inserted!!\")\n",
    "    mydb.commit()\n",
    "    cursor.close()\n",
    "    mydb.close()\n",
    "    \n",
    "except Exception as e:\n",
    "    #mydb.close()\n",
    "    print(str(e))\n",
    "        "
   ]
  }
 ],
 "metadata": {
  "kernelspec": {
   "display_name": "Python 3 (ipykernel)",
   "language": "python",
   "name": "python3"
  },
  "language_info": {
   "codemirror_mode": {
    "name": "ipython",
    "version": 3
   },
   "file_extension": ".py",
   "mimetype": "text/x-python",
   "name": "python",
   "nbconvert_exporter": "python",
   "pygments_lexer": "ipython3",
   "version": "3.9.7"
  }
 },
 "nbformat": 4,
 "nbformat_minor": 5
}
